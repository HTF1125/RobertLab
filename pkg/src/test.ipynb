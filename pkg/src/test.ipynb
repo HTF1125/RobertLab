{
 "cells": [
  {
   "cell_type": "code",
   "execution_count": 1,
   "metadata": {},
   "outputs": [
    {
     "data": {
      "text/html": [
       "<div>\n",
       "<style scoped>\n",
       "    .dataframe tbody tr th:only-of-type {\n",
       "        vertical-align: middle;\n",
       "    }\n",
       "\n",
       "    .dataframe tbody tr th {\n",
       "        vertical-align: top;\n",
       "    }\n",
       "\n",
       "    .dataframe thead th {\n",
       "        text-align: right;\n",
       "    }\n",
       "</style>\n",
       "<table border=\"1\" class=\"dataframe\">\n",
       "  <thead>\n",
       "    <tr style=\"text-align: right;\">\n",
       "      <th></th>\n",
       "      <th>^VIX</th>\n",
       "    </tr>\n",
       "    <tr>\n",
       "      <th>Date</th>\n",
       "      <th></th>\n",
       "    </tr>\n",
       "  </thead>\n",
       "  <tbody>\n",
       "    <tr>\n",
       "      <th>1990-01-02</th>\n",
       "      <td>17.240000</td>\n",
       "    </tr>\n",
       "    <tr>\n",
       "      <th>1990-01-03</th>\n",
       "      <td>18.190001</td>\n",
       "    </tr>\n",
       "    <tr>\n",
       "      <th>1990-01-04</th>\n",
       "      <td>19.219999</td>\n",
       "    </tr>\n",
       "    <tr>\n",
       "      <th>1990-01-05</th>\n",
       "      <td>20.110001</td>\n",
       "    </tr>\n",
       "    <tr>\n",
       "      <th>1990-01-08</th>\n",
       "      <td>20.260000</td>\n",
       "    </tr>\n",
       "    <tr>\n",
       "      <th>...</th>\n",
       "      <td>...</td>\n",
       "    </tr>\n",
       "    <tr>\n",
       "      <th>2023-05-23</th>\n",
       "      <td>18.530001</td>\n",
       "    </tr>\n",
       "    <tr>\n",
       "      <th>2023-05-24</th>\n",
       "      <td>20.030001</td>\n",
       "    </tr>\n",
       "    <tr>\n",
       "      <th>2023-05-25</th>\n",
       "      <td>19.139999</td>\n",
       "    </tr>\n",
       "    <tr>\n",
       "      <th>2023-05-26</th>\n",
       "      <td>17.950001</td>\n",
       "    </tr>\n",
       "    <tr>\n",
       "      <th>2023-05-30</th>\n",
       "      <td>17.459999</td>\n",
       "    </tr>\n",
       "  </tbody>\n",
       "</table>\n",
       "<p>8417 rows × 1 columns</p>\n",
       "</div>"
      ],
      "text/plain": [
       "                 ^VIX\n",
       "Date                 \n",
       "1990-01-02  17.240000\n",
       "1990-01-03  18.190001\n",
       "1990-01-04  19.219999\n",
       "1990-01-05  20.110001\n",
       "1990-01-08  20.260000\n",
       "...               ...\n",
       "2023-05-23  18.530001\n",
       "2023-05-24  20.030001\n",
       "2023-05-25  19.139999\n",
       "2023-05-26  17.950001\n",
       "2023-05-30  17.459999\n",
       "\n",
       "[8417 rows x 1 columns]"
      ]
     },
     "execution_count": 1,
     "metadata": {},
     "output_type": "execute_result"
    }
   ],
   "source": [
    "from core.signals import VIX\n",
    "\n",
    "\n",
    "vix = VIX.from_fred_data()\n",
    "vix.data"
   ]
  },
  {
   "cell_type": "code",
   "execution_count": 1,
   "metadata": {},
   "outputs": [
    {
     "name": "stdout",
     "output_type": "stream",
     "text": [
      "Index of 30 in the list: 2\n"
     ]
    }
   ],
   "source": [
    "my_list = [10, 20, 30, 40, 50]\n",
    "\n",
    "# Get the index of a value in the list\n",
    "value = 30\n",
    "\n",
    "if value in my_list:\n",
    "    index = my_list.index(value)\n",
    "    print(\"Index of\", value, \"in the list:\", index)\n",
    "else:\n",
    "    print(value, \"is not present in the list.\")\n"
   ]
  },
  {
   "cell_type": "code",
   "execution_count": 8,
   "metadata": {},
   "outputs": [
    {
     "data": {
      "text/plain": [
       "^VIX    0.406247\n",
       "dtype: float64"
      ]
     },
     "execution_count": 8,
     "metadata": {},
     "output_type": "execute_result"
    }
   ],
   "source": [
    "from core import metrics\n",
    "\n",
    "metrics.to_hurst_exponent(vix.data.rolling(20).apply(metrics.to_momentum, kwargs={\"months\":1}), lags=20)\n"
   ]
  },
  {
   "cell_type": "code",
   "execution_count": null,
   "metadata": {},
   "outputs": [],
   "source": [
    "import json\n",
    "# from core.signals import OECDUSLEIHP\n",
    "from core.strategies import BacktestManager\n",
    "\n",
    "# signal = OECDUSLEIHP.from_fred_data()\n",
    "\n",
    "def get_universe(name: str = \"USSECTOR\"):\n",
    "    with open(\"universe.json\") as f:\n",
    "        return json.load(f).get(name)\n",
    "    \n",
    "from core import data\n",
    "\n",
    "prices = data.get_prices(tickers = list(get_universe().keys()))\n",
    "# bt = BacktestManager(prices=prices, start=\"2007-1-1\", commission=10, shares_frac=0)\n",
    "# bt.Momentum(target_percentile=0.7, months=3)\n",
    "# bt.values.plot(figsize=(12, 10))\n",
    "# bt.analytics\n",
    "\n",
    "from core import metrics\n",
    "\n",
    "metrics.to_momentum(prices=prices.iloc[:, 0], months=12, skip_months=1)\n"
   ]
  },
  {
   "cell_type": "code",
   "execution_count": null,
   "metadata": {},
   "outputs": [],
   "source": []
  },
  {
   "cell_type": "code",
   "execution_count": null,
   "metadata": {},
   "outputs": [],
   "source": [
    "from core import data\n",
    "import plotly.graph_objects as go\n",
    "from plotly.subplots import make_subplots\n",
    "\n",
    "tickers = {\n",
    "    \"T5YIE\": \"Breakeven Inflation: 5Y\",\n",
    "    \"T10YIE\": \"Breakeven Inflation: 10Y\",\n",
    "    \"T5YIFR\": \"Expectation Infaltiona: 5Y\",\n",
    "}\n",
    "\n",
    "result = data.get_macro(tickers=tickers).dropna()\n",
    "result[\"chg\"] = result[\"Breakeven Inflation: 10Y\"] - result[\"Breakeven Inflation: 5Y\"]\n",
    "spy = data.get_prices(tickers=\"SPY\")\n",
    "\n",
    "# Create a line plot for each series\n",
    "fig = make_subplots(rows=2, cols=1, shared_xaxes=True, vertical_spacing=0.05)\n",
    "fig.add_trace(\n",
    "    go.Scatter(x=spy.index, y=spy[\"SPY\"], mode=\"lines\", name=\"SPY\"), row=1, col=1\n",
    ")\n",
    "for series in result:\n",
    "    fig.add_trace(\n",
    "        go.Scatter(x=result.index, y=result[series], mode=\"lines\", name=series),\n",
    "        row=2,\n",
    "        col=1,\n",
    "    )\n",
    "\n",
    "# Set the title and axis labels\n",
    "fig.update_layout(title=\"Inflation\", xaxis_title=\"Date\", yaxis_title=\"%\", height=600)\n",
    "fig.update_layout(\n",
    "    xaxis=dict(\n",
    "        rangeselector=dict(\n",
    "            buttons=list(\n",
    "                [\n",
    "                    dict(count=1, label=\"1d\", step=\"day\", stepmode=\"backward\"),\n",
    "                    dict(count=7, label=\"1w\", step=\"day\", stepmode=\"backward\"),\n",
    "                    dict(count=1, label=\"1m\", step=\"month\", stepmode=\"backward\"),\n",
    "                    dict(count=3, label=\"3m\", step=\"month\", stepmode=\"backward\"),\n",
    "                    dict(count=6, label=\"6m\", step=\"month\", stepmode=\"backward\"),\n",
    "                    dict(step=\"all\"),\n",
    "                ]\n",
    "            )\n",
    "        ),\n",
    "        rangeslider=dict(visible=False),\n",
    "        type=\"date\",\n",
    "    ),\n",
    "    hovermode=\"x unified\",  # Enable the \"Show All Stats\" option on mouseover\n",
    ")\n",
    "\n",
    "# Display the graph\n",
    "fig.show()"
   ]
  },
  {
   "cell_type": "code",
   "execution_count": null,
   "metadata": {},
   "outputs": [],
   "source": [
    "from core.strategies import BacktestManager\n",
    "bt = BacktestManager.from_universe(start=\"2010-1-1\", commission=10, shares_frac=0)\n",
    "bt.Momentum()\n",
    "bt.values.plot()\n"
   ]
  },
  {
   "cell_type": "code",
   "execution_count": null,
   "metadata": {},
   "outputs": [],
   "source": []
  },
  {
   "cell_type": "code",
   "execution_count": null,
   "metadata": {},
   "outputs": [],
   "source": []
  }
 ],
 "metadata": {
  "kernelspec": {
   "display_name": "Python 3",
   "language": "python",
   "name": "python3"
  },
  "language_info": {
   "codemirror_mode": {
    "name": "ipython",
    "version": 3
   },
   "file_extension": ".py",
   "mimetype": "text/x-python",
   "name": "python",
   "nbconvert_exporter": "python",
   "pygments_lexer": "ipython3",
   "version": "3.9.6"
  },
  "orig_nbformat": 4,
  "vscode": {
   "interpreter": {
    "hash": "e24c49cb70330bda4278cf1d73522e240c5ff00972b9664bed3bfe636b47b7ca"
   }
  }
 },
 "nbformat": 4,
 "nbformat_minor": 2
}
