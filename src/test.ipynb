{
 "cells": [
  {
   "cell_type": "code",
   "execution_count": null,
   "metadata": {},
   "outputs": [],
   "source": [
    "from core.strategies import BacktestManager\n",
    "from core.signals import OECDUSLEIHP\n",
    "signal = OECDUSLEIHP.from_fred_data()\n",
    "\n",
    "bt = BacktestManager.from_universe(start=\"2010-1-1\", commission=10, shares_frac=0)\n",
    "bt.MinCorr()\n",
    "bt.EqualWeight()\n",
    "bt.RegimeRotation(signal=signal)\n",
    "bt.analytics\n",
    "bt.values.plot(figsize=(12, 10))"
   ]
  }
 ],
 "metadata": {
  "kernelspec": {
   "display_name": "Python 3",
   "language": "python",
   "name": "python3"
  },
  "language_info": {
   "codemirror_mode": {
    "name": "ipython",
    "version": 3
   },
   "file_extension": ".py",
   "mimetype": "text/x-python",
   "name": "python",
   "nbconvert_exporter": "python",
   "pygments_lexer": "ipython3",
   "version": "3.9.6"
  },
  "orig_nbformat": 4,
  "vscode": {
   "interpreter": {
    "hash": "e24c49cb70330bda4278cf1d73522e240c5ff00972b9664bed3bfe636b47b7ca"
   }
  }
 },
 "nbformat": 4,
 "nbformat_minor": 2
}
