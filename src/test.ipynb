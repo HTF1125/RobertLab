{
 "cells": [
  {
   "cell_type": "code",
   "execution_count": null,
   "metadata": {},
   "outputs": [],
   "source": [
    "from database import engine, Meta, Session\n",
    "from sqlmodel import select\n",
    "\n",
    "import pandas as pd\n",
    "\n",
    "def get_meta(**kwargs):\n",
    "    with Session(engine) as session:\n",
    "        records = session.query(Meta).all()\n",
    "        df = pd.DataFrame(records, columns=records[0].keys())\n",
    "\n",
    "        return df\n",
    "\n",
    "\n",
    "# query = select(Meta)\n",
    "# with engine.connect() as conn:\n",
    "\n",
    "#     data = pd.read_sql_query(query, conn)\n",
    "    \n",
    "# data\n",
    "\n",
    "get_meta()"
   ]
  },
  {
   "cell_type": "code",
   "execution_count": null,
   "metadata": {},
   "outputs": [],
   "source": [
    "import asyncio\n",
    "import yfinance as yf\n",
    "\n",
    "\n",
    "async def multiply(ticker):\n",
    "    return yf.download(ticker)\n",
    "\n",
    "async def main():\n",
    "    coroutines = []\n",
    "\n",
    "    for ticker in [\"SPY\", \"AGG\"]:\n",
    "        coro = multiply(ticker)\n",
    "        coroutines.append(coro)\n",
    "\n",
    "    results = await asyncio.gather(*coroutines)\n",
    "    print(results)\n",
    "\n",
    "asyncio.run(main())\n"
   ]
  },
  {
   "cell_type": "code",
   "execution_count": null,
   "metadata": {},
   "outputs": [],
   "source": [
    "from src.core.signals import OECDUSLEIHP\n",
    "import yfinance as yf\n",
    "\n",
    "prices = yf.download(\"SPY, AGG\")[\"Adj Close\"]\n",
    "sig = OECDUSLEIHP.from_fred_data()\n",
    "sig.expected_returns_by_states(prices=prices, frequency=\"M\")"
   ]
  },
  {
   "cell_type": "code",
   "execution_count": null,
   "metadata": {},
   "outputs": [],
   "source": [
    "from src.core.portfolios import Optimizer\n",
    "import yfinance as yf\n",
    "import pandas as pd\n",
    "from typing import Optional, Callable\n",
    "from functools import partial\n",
    "from src.core.strategies import Strategy\n",
    "\n",
    "def backtest(**btkwargs) -> Callable:\n",
    "    \"\"\"strategy wrapper\"\"\"\n",
    "    def decorator(func: Callable):\n",
    "        def wrapper(\n",
    "            prices: Optional[pd.DataFrame] = None,\n",
    "            start: Optional[str] = None,\n",
    "            end: Optional[str] = None,\n",
    "            frequency: str = \"M\",\n",
    "            **kwargs\n",
    "        ):\n",
    "            if prices is None:\n",
    "                prices=btkwargs.get(\"prices\")\n",
    "            if not isinstance(prices, pd.DataFrame):\n",
    "                return\n",
    "            return Strategy(\n",
    "                prices=prices,\n",
    "                rebalance=partial(func, **kwargs),\n",
    "                start=start,\n",
    "                end=end,\n",
    "                frequency=frequency,\n",
    "            )\n",
    "        return wrapper\n",
    "    return decorator\n",
    "\n",
    "@backtest(prices=yf.download(\"ACWI, BND, GLD, VNQI, SPY, QQQ\")[\"Adj Close\"])\n",
    "def EW(strategy):\n",
    "    \"\"\"equal\"\"\"\n",
    "    return Optimizer.from_prices(prices=strategy.reb_prices).uniform_allocation()\n",
    "\n",
    "\n",
    "EW(start=\"2022-1-1\").value.plot()"
   ]
  },
  {
   "cell_type": "code",
   "execution_count": null,
   "metadata": {},
   "outputs": [],
   "source": [
    "\"\"\"ROBERT\"\"\"\n",
    "\n",
    "from src.core.strategies.ext import TargetVol\n",
    "import yfinance as yf\n",
    "prices = yf.download(\"ACWI, BND, GLD, VNQI, SPY, QQQ\")[\"Adj Close\"]\n",
    "strategy = TargetVol(prices=prices, start=\"2020-1-1\", target_vol=0.25)\n",
    "strategy.value.plot()"
   ]
  },
  {
   "cell_type": "code",
   "execution_count": null,
   "metadata": {},
   "outputs": [],
   "source": [
    "import pandas as pd\n",
    "\n",
    "\n",
    "data = pd.read_clipboard()\n",
    "\n",
    "data"
   ]
  },
  {
   "cell_type": "code",
   "execution_count": null,
   "metadata": {},
   "outputs": [],
   "source": []
  },
  {
   "cell_type": "code",
   "execution_count": null,
   "metadata": {},
   "outputs": [],
   "source": [
    "\n",
    "import yfinance as yf\n",
    "prices = yf.download(\"SPY, QQQ, XLU, XLY\")[\"Adj Close\"].dropna().loc[\"2008\":]\n",
    "t = TargetVol(prices=prices)\n",
    "t.value.plot()"
   ]
  },
  {
   "cell_type": "code",
   "execution_count": null,
   "metadata": {},
   "outputs": [],
   "source": [
    "t.value.loc[\"2015\":].plot()"
   ]
  },
  {
   "cell_type": "code",
   "execution_count": null,
   "metadata": {},
   "outputs": [],
   "source": [
    "import yfinance as yf\n",
    "\n",
    "p = yf.download(\"TLT\", actions=True)\n",
    "\n",
    "p[[\"Dividends\"]].plot()"
   ]
  },
  {
   "cell_type": "code",
   "execution_count": null,
   "metadata": {},
   "outputs": [],
   "source": [
    "p = yf.download(\"XLB,XLC,XLE,XLF,XLI,XLK,XLP,XLRE,XLU,XLV,XLY\")['Adj Close']\n",
    "from app.core.analytics.metrics import to_start\n",
    "\n",
    "\n",
    "to_start(p).to_clipboard()"
   ]
  },
  {
   "cell_type": "code",
   "execution_count": null,
   "metadata": {},
   "outputs": [],
   "source": [
    "dividends = p[[\"Dividends\"]]\n",
    "dividends = dividends[dividends[\"Dividends\"] != 0]\n",
    "dividends"
   ]
  },
  {
   "cell_type": "code",
   "execution_count": null,
   "metadata": {},
   "outputs": [],
   "source": [
    "p.Close.loc[\"2023-4-28\":].pct_change()"
   ]
  },
  {
   "cell_type": "code",
   "execution_count": null,
   "metadata": {},
   "outputs": [],
   "source": [
    "p[\"Adj Close\"].loc[\"2023-4-28\":]"
   ]
  },
  {
   "cell_type": "code",
   "execution_count": null,
   "metadata": {},
   "outputs": [],
   "source": [
    "p[\"Close\"].loc[\"2023-4-28\":] - p[\"Dividends\"].loc[\"2023-4-28\":].shift(-1).bfill()"
   ]
  },
  {
   "cell_type": "code",
   "execution_count": null,
   "metadata": {},
   "outputs": [],
   "source": [
    "from app.core.analytics import metrics\n",
    "def analytics() -> pd.DataFrame:\n",
    "    \"\"\"analytics\"\"\"\n",
    "    \n",
    "    __metrics__ = [\n",
    "        metrics.to_ann_return,\n",
    "        metrics.to_ann_volatility,\n",
    "        metrics.to_sharpe_ratio,\n",
    "        metrics.to_skewness,\n",
    "        metrics.to_kurtosis,\n",
    "        metrics.to_value_at_risk,\n",
    "        metrics.to_conditional_value_at_risk,\n",
    "    ]\n",
    "    \n",
    "    result = [metric(strategy.value.to_frame()).to_frame() for metric in __metrics__]\n",
    "    print(pd.concat(result, axis=1).round(4))\n",
    "\n",
    "analytics()"
   ]
  },
  {
   "cell_type": "code",
   "execution_count": null,
   "metadata": {},
   "outputs": [],
   "source": [
    "import sqlalchemy as sa\n",
    "from sqlalchemy.ext.declarative import declarative_base\n",
    "\n",
    "Base = declarative_base()\n",
    "\n",
    "class Meta(Base):\n",
    "    __tablename__ = \"tb_meta\"\n",
    "    \n",
    "    id = sa.Column(sa.Integer, primary_key=True, autoincrement=True)\n",
    "    ticker = sa.Column(sa.String, index=True)\n",
    "    name = sa.Column(sa.String)\n",
    "    source = sa.Column(sa.String)\n",
    "    category = sa.Column(sa.String)\n",
    "    \n",
    "    \n",
    "    \n",
    "    "
   ]
  },
  {
   "cell_type": "code",
   "execution_count": null,
   "metadata": {},
   "outputs": [],
   "source": [
    "from sqlalchemy.ext.declarative import declarative_base\n",
    "Base = declarative_base()\n",
    "import sqlalchemy as sa\n",
    "\n",
    "class Meta(Base):\n",
    "    \"\"\"\n",
    "    Represents a metadata record in the database.\n",
    "    \"\"\"\n",
    "\n",
    "    __tablename__ = \"tb_meta\"\n",
    "    __table_args__ = (sa.UniqueConstraint(\"code\", \"name\", name=\"uc_code_name\"),)\n",
    "    id = sa.Column(\n",
    "        sa.Integer,\n",
    "        primary_key=True,\n",
    "        comment=\"Internal MetaID\",\n",
    "        doc=\"Internal Meta ID (UNIVERSAL)\",\n",
    "    )\n",
    "    code = sa.Column(\n",
    "        sa.VARCHAR(100),\n",
    "        unique=True,\n",
    "        nullable=False,\n",
    "        index=True,\n",
    "        comment=\"Code that could be recognized by Users.\",\n",
    "        doc=\"Code for user interface\",\n",
    "    )\n",
    "    category = sa.Column(\n",
    "        sa.VARCHAR(20),\n",
    "        nullable=True,\n",
    "        unique=False,\n",
    "        comment=\"Metadata Type\",\n",
    "        doc=\"Metadata Type\",\n",
    "    )\n",
    "    instrument = sa.Column(\n",
    "        sa.VARCHAR(20),\n",
    "        nullable=True,\n",
    "        unique=False,\n",
    "        comment=\"Metadata Instrument\",\n",
    "        doc=\"Metadata Instrument\",\n",
    "    )\n",
    "    isin = sa.Column(\n",
    "        sa.CHAR(12),\n",
    "        nullable=True,\n",
    "        comment=\"International Securities Identification Code (12)\",\n",
    "        doc=\"International Securities Identification Code (12)\",\n",
    "    )\n",
    "    name = sa.Column(\n",
    "        sa.VARCHAR(255),\n",
    "        nullable=False,\n",
    "        unique=True,\n",
    "        comment=\"Abbreviated Name\",\n",
    "        doc=\"Short Name\",\n",
    "    )\n",
    "    description = sa.Column(\n",
    "        sa.VARCHAR(1000),\n",
    "        unique=False,\n",
    "        nullable=True,\n",
    "        comment=\"Description for the Meta\",\n",
    "        doc=\"Description for the Meta\",\n",
    "    )\n",
    "    deactive = sa.Column(\n",
    "        sa.Boolean,\n",
    "        nullable=False,\n",
    "        # Use a SQLAlchemy text clause for default value\n",
    "        default=sa.text(\"false\"),\n",
    "        server_default=sa.text(\"false\"),\n",
    "    )\n",
    "    source = sa.Column(sa.VARCHAR(255), nullable=True, comment=\"source\", doc=\"source\")\n",
    "    yahoo = sa.Column(\n",
    "        sa.VARCHAR(100),\n",
    "        nullable=True,\n",
    "        comment=\"Code that could be recognized by Yahoo.\",\n",
    "        doc=\"Code for Yahoo\",\n",
    "    )\n",
    "    naver = sa.Column(\n",
    "        sa.VARCHAR(100),\n",
    "        nullable=True,\n",
    "        comment=\"Code that could be recognized by Naver.\",\n",
    "        doc=\"Code for Naver.\",\n",
    "    )\n",
    "    bloomberg = sa.Column(\n",
    "        sa.VARCHAR(100),\n",
    "        nullable=True,\n",
    "        comment=\"Code that could be recognized by Naver.\",\n",
    "        doc=\"Code for Naver.\",\n",
    "    )\n",
    "    morningstar = sa.Column(\n",
    "        sa.VARCHAR(100),\n",
    "        nullable=True,\n",
    "        comment=\"Code that could be recognized by Morningstar.\",\n",
    "        doc=\"Code for Morningstar.\",\n",
    "    )\n",
    "    reuters = sa.Column(\n",
    "        sa.VARCHAR(100),\n",
    "        nullable=True,\n",
    "        comment=\"Code that could be recognized by Reuters.\",\n",
    "        doc=\"Code for Reuters.\",\n",
    "    )    "
   ]
  },
  {
   "cell_type": "code",
   "execution_count": 20,
   "metadata": {},
   "outputs": [
    {
     "name": "stdout",
     "output_type": "stream",
     "text": [
      "[*********************100%***********************]  11 of 11 completed\n"
     ]
    },
    {
     "data": {
      "text/plain": [
       "<AxesSubplot:>"
      ]
     },
     "execution_count": 20,
     "metadata": {},
     "output_type": "execute_result"
    },
    {
     "data": {
      "image/png": "[encoded data removed]",
      "text/plain": [
       "<Figure size 432x288 with 1 Axes>"
      ]
     },
     "metadata": {
      "needs_background": "light"
     },
     "output_type": "display_data"
    }
   ],
   "source": [
    "from core.signals import OECDUSLEIHP\n",
    "from core.portfolios import Optimizer\n",
    "from core.strategies import backtest\n",
    "import pandas as pd\n",
    "import yfinance as yf\n",
    "\n",
    "\n",
    "@backtest\n",
    "def SectorRotation(strategy, signal):\n",
    "\n",
    "    state = signal.get_state(str(strategy.date))\n",
    "    exp_ret = signal.expected_returns_by_states(\n",
    "        strategy.reb_prices.iloc[-252 * 5 :]\n",
    "    ).dropna(how=\"all\", axis=1)\n",
    "    index = exp_ret.loc[state].nlargest(5).index\n",
    "    prices = strategy.reb_prices[index].dropna(axis=1, how=\"all\")\n",
    "    allocations = Optimizer.from_prices(prices=prices).uniform_allocation()\n",
    "    return allocations\n",
    "\n",
    "\n",
    "prices = yf.download(tickers=\"XLC, XLY, XLP, XLE, XLF, XLV, XLI, XLB, XLRE, XLK, XLU\")[\n",
    "    \"Adj Close\"\n",
    "]\n",
    "signal = OECDUSLEIHP.from_fred_data()\n",
    "\n",
    "strategy = SectorRotation(prices=prices, signal=signal, start=\"2015-1-1\")\n",
    "strategy.value.plot()\n"
   ]
  },
  {
   "cell_type": "code",
   "execution_count": 21,
   "metadata": {},
   "outputs": [
    {
     "name": "stdout",
     "output_type": "stream",
     "text": [
      "[*********************100%***********************]  1 of 1 completed\n"
     ]
    },
    {
     "data": {
      "text/plain": [
       "<AxesSubplot:xlabel='Date'>"
      ]
     },
     "execution_count": 21,
     "metadata": {},
     "output_type": "execute_result"
    },
    {
     "data": {
      "image/png": "[encoded data removed]",
      "text/plain": [
       "<Figure size 432x288 with 1 Axes>"
      ]
     },
     "metadata": {
      "needs_background": "light"
     },
     "output_type": "display_data"
    }
   ],
   "source": [
    "from core.analytics import metrics\n",
    "metrics.to_drawdown(yf.download(\"SPY\")[\"Adj Close\"]).plot()\n",
    "metrics.to_drawdown(strategy.value).plot()"
   ]
  },
  {
   "cell_type": "code",
   "execution_count": null,
   "metadata": {},
   "outputs": [],
   "source": [
    "\n",
    "exp_ret = signal.expected_returns_by_states(prices)"
   ]
  },
  {
   "cell_type": "code",
   "execution_count": 10,
   "metadata": {},
   "outputs": [
    {
     "data": {
      "text/plain": [
       "XLP     0.005696\n",
       "XLU     0.006476\n",
       "XLF     0.007542\n",
       "XLY     0.011492\n",
       "XLV     0.011741\n",
       "XLE     0.013406\n",
       "XLB     0.013701\n",
       "XLI     0.013982\n",
       "XLK     0.017811\n",
       "XLRE    0.020875\n",
       "XLC     0.031085\n",
       "Name: expansion, dtype: float64"
      ]
     },
     "execution_count": 10,
     "metadata": {},
     "output_type": "execute_result"
    }
   ],
   "source": [
    "exp_ret.loc[\"expansion\"].sort_values()"
   ]
  },
  {
   "cell_type": "code",
   "execution_count": null,
   "metadata": {},
   "outputs": [],
   "source": [
    "from src import database\n",
    "import pandas as pd\n",
    "from src import config\n",
    "\n",
    "# database.client.conn.create_all()\n",
    "database.UniverseMeta.insert(\n",
    "    pd.read_clipboard()\n",
    ")\n"
   ]
  },
  {
   "cell_type": "code",
   "execution_count": null,
   "metadata": {},
   "outputs": [],
   "source": [
    "from app import database as db\n",
    "\n",
    "# with db.engine.connect() as conn:\n",
    "#     conn.execute(\n",
    "#         f\"CREATE VIEW tb_test AS SELECT * FROM tb_meta WHERE tb_meta.meta_type == 'Equity'\"\n",
    "#     )\n",
    "\n",
    "\n",
    "with db.SessionContext() as session:\n",
    "    \n",
    "    result = session.execute(\"SELECT * FROM tb_test\")\n",
    "    \n",
    "    print(result.fetchall())\n"
   ]
  },
  {
   "cell_type": "code",
   "execution_count": null,
   "metadata": {},
   "outputs": [],
   "source": [
    "from app.core.strategies import HierarchicalEqualRiskContribution\n",
    "import yfinance as yf\n",
    "\n",
    "prices = yf.download(\"SPY, QQQ, XLG, XLV, XLU, XLB\")[\"Adj Close\"]\n",
    "\n",
    "strategy = HierarchicalEqualRiskContribution(prices=prices.dropna()).simulate(\"2023-1-1\")\n",
    "\n",
    "strategy.value.plot()"
   ]
  },
  {
   "cell_type": "code",
   "execution_count": null,
   "metadata": {},
   "outputs": [],
   "source": [
    "from typing import Optional\n",
    "import pandas as pd\n",
    "from app.core.strategies import Strategy\n",
    "from app.core.analytics.features import momentum\n",
    "from app.core.analytics.metrics import to_ann_volatility\n",
    "\n",
    "\n",
    "class DualMomentum(Strategy):\n",
    "    # Objective: balanced growth\n",
    "    # Type: momentum strategy\n",
    "    # Invests in: ETFs tracking stocks, bonds, real estate, and gold\n",
    "    # Rebalancing schedule: monthly\n",
    "    # Taxation: 50% short-term capital gains\n",
    "    # Minimum account size: $5,000\n",
    "    def rebalance(self) -> Optional[pd.Series]:\n",
    "        single_weight = 1 / (len(self.reb_prices.columns) - 1)\n",
    "        safe = to_ann_volatility(self.reb_prices.iloc[-252:]).idxmin()\n",
    "        mome_1y = momentum(self.reb_prices, months=6).iloc[-1]\n",
    "        safe_mome = mome_1y.loc[safe]\n",
    "        weights = {}\n",
    "        for asset in self.reb_prices:\n",
    "            if asset == safe:\n",
    "                continue\n",
    "            if mome_1y.loc[asset] > safe_mome:\n",
    "                weights.update({asset: single_weight})\n",
    "            else:\n",
    "                if safe in weights.keys():\n",
    "                    weights.update({safe: weights[safe] + single_weight})\n",
    "                else:\n",
    "                    weights.update({safe: single_weight})\n",
    "        return pd.Series(weights)\n",
    "\n",
    "\n",
    "import yfinance as yf\n",
    "\n",
    "prices = yf.download(\"SPY, VNQ, XLK, XLU, XLB, XLV, XLY, XLG, BIL, AGG, TLT\")[\"Adj Close\"]\n",
    "\n",
    "strategy = DualMomentum(prices=prices).simulate(\"2015-1-1\")\n",
    "\n",
    "strategy.value.plot()\n"
   ]
  },
  {
   "cell_type": "code",
   "execution_count": null,
   "metadata": {},
   "outputs": [],
   "source": [
    "from app.core.portfolios import Optimizer\n",
    "from app.core.strategies import Strategy\n",
    "\n",
    "class MaxSharpe(Strategy):\n",
    "    def rebalance(self):\n",
    "        prices = self.reb_prices.iloc[-252:]\n",
    "        opt = Optimizer.from_prices(prices)\n",
    "        return opt.maximized_sharpe_ratio()\n",
    "\n",
    "import yfinance as yf\n",
    "\n",
    "prices = yf.download(\"SPY, VNQ, XLK, XLU, XLB, XLV, XLY, XLG, BIL, AGG, TLT\")[\"Adj Close\"]\n",
    "\n",
    "prices"
   ]
  },
  {
   "cell_type": "code",
   "execution_count": null,
   "metadata": {},
   "outputs": [],
   "source": [
    "test = prices.copy()\n",
    "test[~test.isnull()] = 1\n",
    "test\n"
   ]
  },
  {
   "cell_type": "code",
   "execution_count": null,
   "metadata": {},
   "outputs": [],
   "source": [
    "from app.core.strategies import HierarchicalEqualRiskContribution\n",
    "import yfinance as yf\n",
    "\n",
    "prices = yf.download(\"SPY, AGG, GSG, TLT\")[\"Adj Close\"]\n",
    "\n",
    "strategy = HierarchicalEqualRiskContribution(prices=prices.dropna()).simulate()\n",
    "\n",
    "strategy.value\n"
   ]
  },
  {
   "cell_type": "code",
   "execution_count": null,
   "metadata": {},
   "outputs": [],
   "source": [
    "from src import database as db\n",
    "\n",
    "with db.SessionContext() as session:\n",
    "\n",
    "    for (source,) in session.query(db.models.Meta.source).distinct():\n",
    "\n",
    "        print(source)\n",
    "        if source == \"YAHOO\":\n",
    "            import yfinance as yf\n",
    "            for meta in (\n",
    "                session.query(db.models.Meta).filter(db.models.Meta.source == source).all()\n",
    "            ):\n",
    "                data = yf.download(\n",
    "                    tickers=meta.code, start=\"1980-1-1\", progress=False, actions=True\n",
    "                ).reset_index()\n",
    "                data.columns = data.columns.str.lower()\n",
    "                data.columns = data.columns.str.replace(\" \", \"_\")\n",
    "                data[\"pri_return\"] = (\n",
    "                    data.close.divide(data.close.shift(1)).subtract(1).fillna(0)\n",
    "                )\n",
    "                if \"dividends\" in data.columns:\n",
    "                    data[\"dvd_return\"] = (\n",
    "                        data.dividends.divide(data.close.shift(1)).fillna(0)\n",
    "                    )\n",
    "                else:\n",
    "                    data[\"dvd_return\"] = 0\n",
    "                data[\"tot_return\"] = data[\"pri_return\"].add(data[\"dvd_return\"])\n",
    "                data = data.assign(meta_id=meta.meta_id)\n",
    "                print(data)\n",
    "\n",
    "        elif source == \"NAVER\":\n",
    "            import pandas_datareader as pdr\n",
    "            for meta in (\n",
    "                session.query(db.models.Meta).filter(db.models.Meta.source == source).all()\n",
    "            ):\n",
    "                data = pdr.DataReader(name=meta.code, data_source=\"naver\", start=\"1980-1-1\").astype(float)\n",
    "                data = data.reset_index()\n",
    "                data.columns = data.columns.str.lower()\n",
    "                data.columns = data.columns.str.replace(\" \", \"_\")\n",
    "                data[\"pri_return\"] = (\n",
    "                    data.close.divide(data.close.shift(1)).subtract(1).fillna(0)\n",
    "                )\n",
    "                if \"dividends\" in data.columns:\n",
    "                    data[\"dvd_return\"] = (\n",
    "                        data.dividends.divide(data.close.shift(1)).fillna(0)\n",
    "                    )\n",
    "                else:\n",
    "                    data[\"dvd_return\"] = 0\n",
    "                data[\"tot_return\"] = data[\"pri_return\"].add(data[\"dvd_return\"])\n",
    "                data = data.assign(meta_id=meta.meta_id)\n",
    "                print(data)\n",
    "        else:\n",
    "            data = None\n",
    "        \n",
    "\n"
   ]
  },
  {
   "cell_type": "code",
   "execution_count": null,
   "metadata": {},
   "outputs": [],
   "source": [
    "import pandas as pd\n",
    "\n",
    "w = pd.read_clipboard(index_col=\"date\")\n",
    "r = w.stack().astype(float)\n",
    "r = r.reset_index()\n",
    "r.columns = [\"date\", \"ticker\", \"weight\"]\n",
    "r = r[r.weight != 0.0]\n",
    "r.to_clipboard()"
   ]
  },
  {
   "cell_type": "code",
   "execution_count": null,
   "metadata": {},
   "outputs": [],
   "source": [
    "pd.to_datetime(pd.to_datetime(\"2022-2-1\")).to_pydatetime()"
   ]
  },
  {
   "cell_type": "code",
   "execution_count": null,
   "metadata": {},
   "outputs": [],
   "source": [
    "pd.read_excel(\n",
    "    config.DATABASE_EXC, \n",
    "    sheet_name=\"tb_meta\", \n",
    "    parse_dates=[\"inception_date\"]\n",
    ").sort_values(\"meta_id\")"
   ]
  },
  {
   "cell_type": "code",
   "execution_count": null,
   "metadata": {},
   "outputs": [],
   "source": [
    "import pandas_datareader as pdr\n",
    "import pandas as pd\n",
    "def leading_economic_indicator() -> pd.DataFrame:\n",
    "    \"\"\"\n",
    "    Get raw data for leading economic indicator regime.\n",
    "    \"\"\"\n",
    "    tickers = dict(USALOLITONOSTSAM=\"USLEI\")\n",
    "    data = pdr.DataReader(list(tickers.keys()), \"fred\", start=\"1900-01-01\").resample(\"M\").last()\n",
    "    data = data.rename(columns=tickers)\n",
    "    return data[['USLEI']]\n",
    "\n",
    "leading_economic_indicator()"
   ]
  },
  {
   "cell_type": "code",
   "execution_count": null,
   "metadata": {},
   "outputs": [],
   "source": [
    "from src.core import metrics\n",
    "\n",
    "\n",
    "import pandas as pd\n",
    "nav = pd.read_clipboard(index_col=\"date\", parse_dates=True)\n",
    "nav"
   ]
  },
  {
   "cell_type": "code",
   "execution_count": null,
   "metadata": {},
   "outputs": [],
   "source": [
    "metrics.to_max_drawdown(nav).to_clipboard()"
   ]
  },
  {
   "cell_type": "code",
   "execution_count": null,
   "metadata": {},
   "outputs": [],
   "source": [
    "(prices / prices.resample(\"D\").last().ffill().shift(1, freq=pd.DateOffset(months=1))).dropna()\n"
   ]
  },
  {
   "cell_type": "code",
   "execution_count": null,
   "metadata": {},
   "outputs": [],
   "source": [
    "prices.pct_change(21)"
   ]
  },
  {
   "cell_type": "code",
   "execution_count": null,
   "metadata": {},
   "outputs": [],
   "source": [
    "import pandas as pd\n",
    "\n",
    "pri_returns = prices.pct_change()\n",
    "latest_date = pri_returns.index[-1]\n",
    "start_date = latest_date + pd.DateOffset(years=5)\n",
    "start_date"
   ]
  },
  {
   "cell_type": "code",
   "execution_count": null,
   "metadata": {},
   "outputs": [],
   "source": [
    "from src import db\n",
    "\n",
    "\n",
    "db.create_all()"
   ]
  },
  {
   "cell_type": "code",
   "execution_count": null,
   "metadata": {},
   "outputs": [],
   "source": [
    "import pandas as pd\n",
    "\n",
    "pr_date = prices.index[-1] - pd.DateOffset(years = 1)\n",
    "\n",
    "prices.iloc[-1] / prices.iloc[prices.index.get_loc(pr_date)] - 1"
   ]
  },
  {
   "cell_type": "code",
   "execution_count": null,
   "metadata": {},
   "outputs": [],
   "source": [
    "import pandas_datareader as pdr\n",
    "\n",
    "\n",
    "\n",
    "price = pdr.DataReader(\"329200\", \"naver\", start=\"2021-4-1\")\n",
    "price.to_csv(\"329200.csv\")"
   ]
  },
  {
   "cell_type": "code",
   "execution_count": null,
   "metadata": {},
   "outputs": [],
   "source": []
  },
  {
   "cell_type": "code",
   "execution_count": null,
   "metadata": {},
   "outputs": [],
   "source": [
    "import json\n",
    "\n",
    "import pandas as pd\n",
    "from sec_api import QueryApi\n",
    "from sec_api import ExtractorApi\n",
    "from src.config import EDGAR_API\n",
    "\n",
    "queryApi = QueryApi(api_key=EDGAR_API)\n",
    "\n",
    "query = {\n",
    "    \"query\": {\n",
    "        \"query_string\": {\n",
    "            \"query\": \"ticker:TSLA\",\n",
    "        }\n",
    "    },\n",
    "    \"from\": \"200\",\n",
    "    \"size\": \"300\",\n",
    "    \"sort\": [{\"filedAt\": {\"order\": \"desc\"}}],\n",
    "}\n",
    "\n",
    "response = queryApi.get_filings(query)\n",
    "\n",
    "\n",
    "metadata = pd.DataFrame.from_records(response[\"filings\"])\n",
    "\n",
    "print(metadata)\n",
    "\n",
    "\n",
    "# extractorApi = ExtractorApi(EDGAR_API)\n",
    "\n",
    "\n",
    "# sections_10_k = {\n",
    "#     \"1\": \"Business\",\n",
    "#     \"1A\": \"Risk Factors\",\n",
    "#     \"1B\": \"Unresolved Staff Comments\",\n",
    "#     \"2\": \"Properties\",\n",
    "#     \"3\": \"Legal Proceedings\",\n",
    "#     \"4\": \"Mine Safety Disclosures\",\n",
    "#     \"5\": \"Market for Registrant’s Common Equity, Related Stockholder Matters and Issuer Purchases of Equity Securities\",\n",
    "#     \"6\": \"Selected Financial Data (prior to February 2021)\",\n",
    "#     \"7\": \"Management’s Discussion and Analysis of Financial Condition and Results of Operations\",\n",
    "#     \"7A\": \"Quantitative and Qualitative Disclosures about Market Risk\",\n",
    "#     \"8\": \"Financial Statements and Supplementary Data\",\n",
    "#     \"9\": \"Changes in and Disagreements with Accountants on Accounting and Financial Disclosure\",\n",
    "#     \"9A\": \"Controls and Procedures\",\n",
    "#     \"9B\": \"Other Information\",\n",
    "#     \"10\": \"Directors, Executive Officers and Corporate Governance\",\n",
    "#     \"11\": \"Executive Compensation\",\n",
    "#     \"12\": \"Security Ownership of Certain Beneficial Owners and Management and Related Stockholder Matters\",\n",
    "#     \"13\": \"Certain Relationships and Related Transactions, and Director Independence\",\n",
    "#     \"14\": \"Principal Accountant Fees and Services\",\n",
    "# }\n",
    "\n",
    "\n",
    "# for id, f in enumerate(response[\"filings\"]):\n",
    "#     if f[\"formType\"] == \"10-K\":\n",
    "#         url_10k = f[\"linkToFilingDetails\"]\n",
    "\n",
    "#         out = {}\n",
    "\n",
    "#         for sec, des in sections_10_k.items():\n",
    "#             out[des] = extractorApi.get_section(url_10k, sec, \"text\")\n",
    "\n",
    "#         filename = f\"{id}.json\"\n",
    "\n",
    "#         with open(filename, \"w\") as f:\n",
    "#             json.dump(out, f)\n"
   ]
  },
  {
   "cell_type": "code",
   "execution_count": null,
   "metadata": {},
   "outputs": [],
   "source": [
    "metadata.to_csv(\n",
    "    'test.csv'\n",
    ")"
   ]
  },
  {
   "cell_type": "code",
   "execution_count": null,
   "metadata": {},
   "outputs": [],
   "source": [
    "response['filings'][0]['linkToTxt']"
   ]
  },
  {
   "cell_type": "code",
   "execution_count": null,
   "metadata": {},
   "outputs": [],
   "source": [
    "\n",
    "\n",
    "# 8-K example\n",
    "url_8k = \"https://www.sec.gov/Archives/edgar/data/66600/000149315222016468/form8-k.htm\"\n",
    "\n",
    "item_1_1_text = extractorApi.get_section(response['filings'][0]['linkToTxt'], \"1-1\", \"text\")\n",
    "item_1_1_text"
   ]
  },
  {
   "cell_type": "code",
   "execution_count": null,
   "metadata": {},
   "outputs": [],
   "source": [
    "\n",
    "\n",
    "stra = strategy.HierarchicalEqualRiskContribution(prices=prices).simulate(\n",
    "    start=\"2015-1-1\"\n",
    ")\n",
    "stra.value.plot()\n",
    "# weights_bm = prices.notna().divide(prices.notna().sum(axis=1), axis=0)\n",
    "# metrics.to_pri_return(prices=prices).multiply(weights_bm).sum(axis=1).loc[\"2015-1-1\":].add(1).cumprod().multiply(1000).plot()\n",
    "stra.analytics()"
   ]
  },
  {
   "cell_type": "code",
   "execution_count": null,
   "metadata": {},
   "outputs": [],
   "source": [
    "from src import db\n",
    "\n",
    "\n",
    "with db.SessionContext() as session:\n",
    "    \n",
    "    query = session.query(db.models.Meta)\n",
    "    \n",
    "    result = list(record.to_dict() for record in query.all())\n",
    "    \n",
    "print(result)"
   ]
  },
  {
   "cell_type": "code",
   "execution_count": null,
   "metadata": {},
   "outputs": [],
   "source": [
    "import pandas as pd\n",
    "\n",
    "pd.DataFrame(result)"
   ]
  },
  {
   "cell_type": "code",
   "execution_count": null,
   "metadata": {},
   "outputs": [],
   "source": [
    "import plotly.graph_objs as go\n",
    "from plotly.subplots import make_subplots\n",
    "\n",
    "# create line chart trace\n",
    "line_trace = go.Scatter(\n",
    "    x=stra.value.index, y=stra.value.values, mode=\"lines\", name=stra.value.name\n",
    ")\n",
    "\n",
    "# create stacked bar chart traces\n",
    "bar_traces = []\n",
    "for col in stra.allocations.columns:\n",
    "    trace = go.Bar(x=stra.allocations.index, y=stra.allocations[col]*100, name=col)\n",
    "    bar_traces.append(trace)\n",
    "\n",
    "# create subplots\n",
    "fig = make_subplots(rows=2, cols=1, shared_xaxes=True)\n",
    "\n",
    "# add line chart to the first subplot with its own legend\n",
    "fig.add_trace(line_trace, row=1, col=1)\n",
    "fig.update_traces(showlegend=True, row=1, col=1)\n",
    "\n",
    "# add stacked bar chart to the second subplot with its own legend\n",
    "for trace in bar_traces:\n",
    "    fig.add_trace(trace, row=2, col=1)\n",
    "    fig.update_traces(showlegend=True, row=2, col=1)\n",
    "\n",
    "# update chart layout and style\n",
    "fig.update_layout(\n",
    "    title=\"My Beautiful Subplots\",\n",
    "    xaxis_title=\"Date\",\n",
    "    yaxis_title=\"Values\",\n",
    "    template=\"plotly_dark\",\n",
    "    hovermode=\"x unified\",\n",
    "    showlegend=True,\n",
    "    legend=dict(\n",
    "        x=0.5,\n",
    "        y=1.2,\n",
    "        orientation='h',\n",
    "        xanchor='center',\n",
    "        yanchor='bottom',\n",
    "        bordercolor=\"white\",\n",
    "        borderwidth=1,\n",
    "        bgcolor=\"white\",\n",
    "        font=dict(size=12),\n",
    "    ),\n",
    "    font=dict(family=\"Arial\", size=12, color=\"black\"),\n",
    "    barmode=\"stack\",\n",
    "    # add legends for subplots\n",
    "    annotations=[\n",
    "        dict(\n",
    "            x=0.5,\n",
    "            y=1.1,\n",
    "            xref=\"paper\",\n",
    "            yref=\"paper\",\n",
    "            showarrow=False,\n",
    "            text=\"<b>Line Chart</b>\",\n",
    "            font=dict(size=14),\n",
    "            align=\"center\",\n",
    "        ),\n",
    "        dict(\n",
    "            x=0.5,\n",
    "            y=0.6,\n",
    "            xref=\"paper\",\n",
    "            yref=\"paper\",\n",
    "            showarrow=False,\n",
    "            text=\"<b>Stacked Bar Chart</b>\",\n",
    "            font=dict(size=14),\n",
    "            align=\"center\",\n",
    "        ),\n",
    "    ],\n",
    ")\n",
    "\n",
    "# show the chart\n",
    "fig.show()\n"
   ]
  },
  {
   "cell_type": "code",
   "execution_count": null,
   "metadata": {},
   "outputs": [],
   "source": [
    "from src.core.portfolios import Optimizer\n",
    "import yfinance as yf\n",
    "\n",
    "prices = yf.download(\"SPY, AGG, GSG, TLT\")[\"Adj Close\"]\n",
    "opt = Optimizer.from_prices(prices=prices)\n",
    "opt.hierarchical_equal_risk_contribution()"
   ]
  },
  {
   "cell_type": "code",
   "execution_count": null,
   "metadata": {},
   "outputs": [],
   "source": [
    "opt.hierarchical_risk_parity()"
   ]
  },
  {
   "cell_type": "code",
   "execution_count": null,
   "metadata": {},
   "outputs": [],
   "source": [
    "opt.maximized_sharpe_ratio()"
   ]
  },
  {
   "cell_type": "code",
   "execution_count": null,
   "metadata": {},
   "outputs": [],
   "source": []
  }
 ],
 "metadata": {
  "kernelspec": {
   "display_name": "Python 3",
   "language": "python",
   "name": "python3"
  },
  "language_info": {
   "codemirror_mode": {
    "name": "ipython",
    "version": 3
   },
   "file_extension": ".py",
   "mimetype": "text/x-python",
   "name": "python",
   "nbconvert_exporter": "python",
   "pygments_lexer": "ipython3",
   "version": "3.9.6"
  },
  "orig_nbformat": 4,
  "vscode": {
   "interpreter": {
    "hash": "e24c49cb70330bda4278cf1d73522e240c5ff00972b9664bed3bfe636b47b7ca"
   }
  }
 },
 "nbformat": 4,
 "nbformat_minor": 2
}
