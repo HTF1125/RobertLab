{
 "cells": [
  {
   "cell_type": "code",
   "execution_count": null,
   "metadata": {},
   "outputs": [],
   "source": [
    "from src import db\n",
    "import yfinance as yf\n",
    "\n",
    "db.client.conn.create_all()\n",
    "\n",
    "with db.SessionContext() as session:\n",
    "    \n",
    "    for meta in db.models.Meta.query(session=session).all():\n",
    "        \n",
    "        source = db.models.Source.query(meta_id = meta.id).one_or_none()\n",
    "        \n",
    "        if source.source == \"NOTSET\": continue\n",
    "        \n",
    "        if source.source == \"yahoo\":\n",
    "            print(meta.ticker)\n",
    "            ticker = yf.Ticker(meta.ticker)\n",
    "            hist = ticker.history(period=\"max\", auto_adjust=False)\n",
    "            hist.columns = hist.columns.str.replace(\" \", \"_\")\n",
    "            hist.columns = hist.columns.str.lower()\n",
    "            hist.index.name = \"asofdate\"\n",
    "            hist['open'] = hist['open'].round(2)\n",
    "            hist['high'] = hist['high'].round(2)\n",
    "            hist['low'] = hist['low'].round(2)\n",
    "            hist['close'] = hist['close'].round(2)\n",
    "            hist['tot_return'] = hist['close'].add(hist['dividends']).pct_change().fillna(0).round(5)\n",
    "            hist['adj_return'] = hist['adj_close'].pct_change().fillna(0).round(5)\n",
    "            hist = hist.reset_index()\n",
    "            hist[\"meta_id\"] = meta.id\n",
    "            db.models.EquityDailyBar.insert(hist[[\"meta_id\", \"asofdate\", \"open\", \"high\", \"low\", \"close\"]])\n"
   ]
  },
  {
   "cell_type": "code",
   "execution_count": null,
   "metadata": {},
   "outputs": [],
   "source": [
    "import inspect\n",
    "import pandas as pd\n",
    "from src import db\n",
    "from src.config import DATABASE_EXC\n",
    "\n",
    "print(DATABASE_EXC)\n",
    "# db.client.conn.create_all()\n",
    "\n",
    "with db.SessionContext() as session:\n",
    "    for name, obj in inspect.getmembers(db.models):\n",
    "        \n",
    "        if inspect.isclass(obj):\n",
    "            print(obj)\n",
    "            tablename = obj.__tablename__\n",
    "            try:\n",
    "                records = pd.read_excel(DATABASE_EXC, sheet_name=tablename)\n",
    "            except:\n",
    "                continue\n",
    "            obj.update(records=records, session=session)\n",
    "            print(f\"update {name} complete\")\n",
    "\n",
    "        \n",
    "        "
   ]
  },
  {
   "cell_type": "code",
   "execution_count": null,
   "metadata": {},
   "outputs": [],
   "source": [
    "\n",
    "from src.core import metrics\n",
    "\n",
    "import yfinance as yf\n",
    "\n",
    "prices = yf.download(\"SPY, AGG\")[\"Adj Close\"]\n",
    "\n",
    "start = metrics.to_starts(prices)\n",
    "end = metrics.to_ends(prices)\n",
    "end - start"
   ]
  },
  {
   "cell_type": "code",
   "execution_count": null,
   "metadata": {},
   "outputs": [],
   "source": [
    "import glob\n",
    "from datetime import date, timedelta\n",
    "import numpy as np\n",
    "import pandas as pd\n",
    "\n",
    "path = \"price/*.xls\"\n",
    "files = glob.glob(pathname=path)\n",
    "\n",
    "yesterday = date.today() - timedelta(days=1)\n",
    "\n",
    "for file in files:\n",
    "    data = pd.read_excel(file)[[\"종목\", \"현재가\"]]\n",
    "    data.columns = [\"ticker\", \"value\"]\n",
    "    if pd.api.types.is_object_dtype(data[\"value\"].dtype):\n",
    "        data[\"value\"] = data[\"value\"].str.replace(\",\", \"\").astype(float)\n",
    "    data[\"date\"] = yesterday\n",
    "    data[\"field\"] = \"CLOSE\"\n",
    "    print(data)\n"
   ]
  },
  {
   "cell_type": "code",
   "execution_count": null,
   "metadata": {},
   "outputs": [],
   "source": []
  },
  {
   "cell_type": "code",
   "execution_count": null,
   "metadata": {},
   "outputs": [],
   "source": [
    "from src.core import strategy\n",
    "from src.core import metrics\n",
    "import yfinance as yf\n",
    "\n",
    "prices = yf.download(\"XLU, XLK, XLB, XLP, XLY, XLI, XLV, XLF\")[\"Adj Close\"]\n",
    "\n",
    "strategy = strategy.Momentum(prices).simulate(\n",
    "    start=\"2015-1-1\", min_volatility=0.12\n",
    ")\n",
    "\n",
    "strategy.value.plot()\n",
    "print(strategy.analytics())\n"
   ]
  },
  {
   "cell_type": "code",
   "execution_count": 24,
   "metadata": {},
   "outputs": [
    {
     "name": "stdout",
     "output_type": "stream",
     "text": [
      "[*********************100%***********************]  2 of 2 completed\n",
      "                   AGG         SPY\n",
      "Date                              \n",
      "1993-01-29         NaN   25.122353\n",
      "1993-02-01         NaN   25.301023\n",
      "1993-02-02         NaN   25.354639\n",
      "1993-02-03         NaN   25.622637\n",
      "1993-02-04         NaN   25.729856\n",
      "...                ...         ...\n",
      "2023-03-23   99.989998  393.170013\n",
      "2023-03-24  100.160004  395.750000\n",
      "2023-03-27   99.080002  396.489990\n",
      "2023-03-28   98.930000  395.600006\n",
      "2023-03-29   99.050003  401.350006\n",
      "\n",
      "[7596 rows x 2 columns]\n",
      "(                   AGG         SPY\n",
      "Date                              \n",
      "1993-01-29         NaN   25.122353\n",
      "1993-02-01         NaN   25.301023\n",
      "1993-02-02         NaN   25.354639\n",
      "1993-02-03         NaN   25.622637\n",
      "1993-02-04         NaN   25.729856\n",
      "...                ...         ...\n",
      "2023-03-23   99.989998  393.170013\n",
      "2023-03-24  100.160004  395.750000\n",
      "2023-03-27   99.080002  396.489990\n",
      "2023-03-28   98.930000  395.600006\n",
      "2023-03-29   99.050003  401.350006\n",
      "\n",
      "[7596 rows x 2 columns],) {}\n"
     ]
    },
    {
     "data": {
      "text/plain": [
       "Timestamp('2003-09-29 00:00:00')"
      ]
     },
     "execution_count": 24,
     "metadata": {},
     "output_type": "execute_result"
    }
   ],
   "source": [
    "from typing import Optional\n",
    "import numpy as np\n",
    "import pandas as pd\n",
    "\n",
    "\n",
    "class Vectorizer:\n",
    "    def __init__(self, func):\n",
    "        self.func = func\n",
    "    \n",
    "    def __call__(self, *args, **kwargs):\n",
    "        print(args, kwargs)\n",
    "        if 'price' in kwargs:\n",
    "            if isinstance(kwargs['price'], pd.DataFrame):\n",
    "                print(\"is dataframe\")\n",
    "                price = kwargs['price']\n",
    "                del kwargs['price']\n",
    "                print(price)\n",
    "                return price.apply(self.func, **kwargs)\n",
    "            elif isinstance(kwargs['price'], pd.Series):\n",
    "                print(\"is series\")\n",
    "                return self.func(*args, **kwargs)\n",
    "        return self.func(*args, **kwargs)\n",
    "\n",
    "@Vectorizer\n",
    "def to_start(price: pd.Series) -> pd.Timestamp:\n",
    "    \"\"\"calculate start date of the price\"\"\"\n",
    "    return price.dropna().index[0]\n",
    "\n",
    "\n",
    "import yfinance as yf\n",
    "\n",
    "price = yf.download('SPY, AGG')[\"Adj Close\"]\n",
    "print(price)\n",
    "to_start(price)\n"
   ]
  },
  {
   "cell_type": "code",
   "execution_count": null,
   "metadata": {},
   "outputs": [],
   "source": []
  }
 ],
 "metadata": {
  "kernelspec": {
   "display_name": "Python 3",
   "language": "python",
   "name": "python3"
  },
  "language_info": {
   "codemirror_mode": {
    "name": "ipython",
    "version": 3
   },
   "file_extension": ".py",
   "mimetype": "text/x-python",
   "name": "python",
   "nbconvert_exporter": "python",
   "pygments_lexer": "ipython3",
   "version": "3.9.6"
  },
  "orig_nbformat": 4
 },
 "nbformat": 4,
 "nbformat_minor": 2
}
