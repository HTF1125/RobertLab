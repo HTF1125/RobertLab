{
 "cells": [
  {
   "cell_type": "code",
   "execution_count": 4,
   "metadata": {},
   "outputs": [
    {
     "name": "stdout",
     "output_type": "stream",
     "text": [
      "None\n"
     ]
    }
   ],
   "source": [
    "from typing import Dict\n",
    "from datetime import datetime\n",
    "\n",
    "\n",
    "class Account:\n",
    "    \"\"\"\n",
    "    Virtual Account\n",
    "    \"\"\"\n",
    "\n",
    "    __items__ = dict(date=None, value=None, shares=None, prices=None, weights=None)\n",
    "\n",
    "    @property\n",
    "    def date(self) -> datetime:\n",
    "        return self.__items__.get(\"date\", None)\n",
    "\n",
    "    @date.setter\n",
    "    def date(self, date: datetime) -> None:\n",
    "        return self.__items__.update({\"date\": date})\n",
    "\n",
    "    @property\n",
    "    def value(self) -> datetime:\n",
    "        return self.__items__.get(\"value\", None)\n",
    "\n",
    "    @value.setter\n",
    "    def value(self, value: float) -> None:\n",
    "        return self.__items__.update({\"value\": value})\n",
    "\n",
    "    @property\n",
    "    def prices(self) -> datetime:\n",
    "        return self.__items__.get(\"prices\", None)\n",
    "\n",
    "    @prices.setter\n",
    "    def prices(self, prices: Dict) -> None:\n",
    "        return self.__items__.update({\"prices\": prices})\n",
    "\n",
    "\n",
    "\n",
    "\n",
    "\n",
    "\n",
    "\n",
    "\n",
    "\n",
    "\n",
    "\n",
    "\n",
    "\n",
    "account = Account()\n",
    "\n",
    "print(account.__items__[\"date\"])\n"
   ]
  },
  {
   "cell_type": "code",
   "execution_count": null,
   "metadata": {},
   "outputs": [],
   "source": []
  }
 ],
 "metadata": {
  "kernelspec": {
   "display_name": "Python 3",
   "language": "python",
   "name": "python3"
  },
  "language_info": {
   "codemirror_mode": {
    "name": "ipython",
    "version": 3
   },
   "file_extension": ".py",
   "mimetype": "text/x-python",
   "name": "python",
   "nbconvert_exporter": "python",
   "pygments_lexer": "ipython3",
   "version": "3.9.6"
  },
  "orig_nbformat": 4
 },
 "nbformat": 4,
 "nbformat_minor": 2
}
