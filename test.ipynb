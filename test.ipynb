{
 "cells": [
  {
   "cell_type": "code",
   "execution_count": 5,
   "metadata": {},
   "outputs": [
    {
     "name": "stdout",
     "output_type": "stream",
     "text": [
      "AAXJ\n",
      "             open   high    low  close  adj_close   volume  dividends  \\\n",
      "Date                                                                    \n",
      "2009-06-23  42.04  42.42  41.46  42.09  32.771549   212000      0.195   \n",
      "2009-12-22  54.35  54.42  54.00  54.18  42.581676   129500      0.507   \n",
      "2010-06-23  55.94  55.94  54.30  54.64  43.223476  1714300      0.355   \n",
      "2010-12-21  62.70  62.92  62.54  62.79  50.158077   186800      0.608   \n",
      "2011-06-22  60.15  60.20  59.73  59.73  48.237659   319600      0.660   \n",
      "2011-12-20  49.07  49.79  49.03  49.69  40.455883   310800      0.391   \n",
      "2012-06-21  52.28  52.28  50.87  50.93  41.864986  1458400      0.508   \n",
      "2012-12-18  59.27  59.58  58.96  59.53  49.380867   679800      0.541   \n",
      "2013-06-27  54.05  54.59  54.05  54.45  45.601883   381400      0.516   \n",
      "2013-12-18  59.11  60.19  58.47  59.83  50.554852   526800      0.525   \n",
      "2013-12-27  59.59  59.66  59.45  59.45  50.255096   641900      0.025   \n",
      "2014-06-25  61.98  62.20  61.90  62.11  52.928192   228700      0.500   \n",
      "2014-12-17  58.59  59.83  58.35  59.34  51.072727  3265400      0.586   \n",
      "2015-06-25  64.83  64.90  64.47  64.50  55.861088   282200      0.405   \n",
      "2015-12-21  53.97  54.00  53.34  53.67  47.268414  2354900      0.900   \n",
      "2016-06-22  54.16  54.38  53.98  53.99  47.846241   952900      0.335   \n",
      "2016-12-21  54.87  54.90  54.63  54.63  48.975807  2053100      0.638   \n",
      "2017-06-20  67.50  67.59  67.18  67.23  60.527470   887800      0.287   \n",
      "2017-12-19  74.81  74.81  74.35  74.52  68.199791  3122200      1.234   \n",
      "2018-06-19  73.15  73.51  72.75  73.46  67.598206  1636200      0.408   \n",
      "2018-12-18  63.91  64.24  63.69  63.85  59.613129  2664600      0.928   \n",
      "2019-06-17  66.16  66.40  66.09  66.25  62.238773  1071700      0.411   \n",
      "2019-12-16  72.01  72.18  71.90  72.02  68.542465  1848500      0.933   \n",
      "2020-06-15  66.54  67.75  66.24  67.46  64.450966  1004400      0.263   \n",
      "2020-12-14  87.07  87.12  86.47  86.47  83.263855  1886300      0.684   \n",
      "2021-06-10  94.32  94.78  94.28  94.72  91.479065   351600      0.279   \n",
      "2021-12-13  83.32  83.32  82.32  82.58  81.225388  1539200      1.546   \n",
      "2022-06-09  71.80  71.97  70.73  70.73  69.893318  1149300      0.337   \n",
      "2022-12-13  67.10  67.43  66.21  66.41  66.410004  1779200      0.787   \n",
      "\n",
      "            stock_splits  tot_return  \n",
      "Date                                  \n",
      "2009-06-23             0    -0.00271  \n",
      "2009-12-22             0     0.00509  \n",
      "2010-06-23             0     0.00447  \n",
      "2010-12-21             0     0.01340  \n",
      "2011-06-22             0    -0.00609  \n",
      "2011-12-20             0     0.03366  \n",
      "2012-06-21             0    -0.03367  \n",
      "2012-12-18             0     0.00420  \n",
      "2013-06-27             0     0.01601  \n",
      "2013-12-18             0     0.01693  \n",
      "2013-12-27             0     0.01011  \n",
      "2014-06-25             0     0.00433  \n",
      "2014-12-17             0     0.01124  \n",
      "2015-06-25             0    -0.00376  \n",
      "2015-12-21             0     0.00925  \n",
      "2016-06-22             0     0.00323  \n",
      "2016-12-21             0    -0.00526  \n",
      "2017-06-20             0    -0.00593  \n",
      "2017-12-19             0    -0.00166  \n",
      "2018-06-19             0    -0.01299  \n",
      "2018-12-18             0     0.00478  \n",
      "2019-06-17             0     0.00302  \n",
      "2019-12-16             0     0.00736  \n",
      "2020-06-15             0    -0.00787  \n",
      "2020-12-14             0    -0.00407  \n",
      "2021-06-10             0     0.00912  \n",
      "2021-12-13             0    -0.01457  \n",
      "2022-06-09             0    -0.02380  \n",
      "2022-12-13             0     0.01003  \n"
     ]
    }
   ],
   "source": [
    "from src import db\n",
    "import yfinance as yf\n",
    "\n",
    "with db.SessionContext() as session:\n",
    "    \n",
    "    for meta in db.models.Meta.query(session=session).all():\n",
    "        \n",
    "        source = db.models.Source.query(meta_id = meta.id).one_or_none()\n",
    "        \n",
    "        if source.source == \"NOTSET\": continue\n",
    "        \n",
    "        if source.source == \"yahoo\":\n",
    "            print(meta.ticker)\n",
    "            ticker = yf.Ticker(meta.ticker)\n",
    "            hist = ticker.history(period=\"max\", auto_adjust=False)\n",
    "            hist.columns = hist.columns.str.replace(\" \", \"_\")\n",
    "            hist.columns = hist.columns.str.lower()\n",
    "            hist['open'] = hist['open'].round(2)\n",
    "            hist['high'] = hist['high'].round(2)\n",
    "            hist['low'] = hist['low'].round(2)\n",
    "            hist['close'] = hist['close'].round(2)\n",
    "            hist['tot_return'] = hist['close'].add(hist['dividends']).pct_change().fillna(0).round(5)\n",
    "            print(hist[hist.dividends != 0])\n",
    "            break"
   ]
  },
  {
   "cell_type": "code",
   "execution_count": 11,
   "metadata": {},
   "outputs": [
    {
     "name": "stdout",
     "output_type": "stream",
     "text": [
      "c:\\Users\\hanti\\Codes\\RobertLab\\src/database/database.xlsx\n",
      "<class 'src.database.models.meta.Equity'>\n",
      "<class 'src.database.models.meta.Index'>\n",
      "<class 'src.database.models.meta.Meta'>\n",
      "update Meta complete\n",
      "<class 'src.database.models.meta.Source'>\n",
      "update Source complete\n",
      "<class 'src.database.models.meta.Strategy'>\n",
      "<class 'src.database.models.meta.Universe'>\n"
     ]
    }
   ],
   "source": [
    "import inspect\n",
    "import pandas as pd\n",
    "from src import db\n",
    "from src.config import DATABASE_EXC\n",
    "\n",
    "print(DATABASE_EXC)\n",
    "# db.client.conn.create_all()\n",
    "\n",
    "with db.SessionContext() as session:\n",
    "    for name, obj in inspect.getmembers(db.models):\n",
    "        \n",
    "        if inspect.isclass(obj):\n",
    "            print(obj)\n",
    "            tablename = obj.__tablename__\n",
    "            try:\n",
    "                records = pd.read_excel(DATABASE_EXC, sheet_name=tablename)\n",
    "            except:\n",
    "                continue\n",
    "            obj.update(records=records, session=session)\n",
    "            print(f\"update {name} complete\")\n",
    "\n",
    "        \n",
    "        "
   ]
  },
  {
   "cell_type": "code",
   "execution_count": 1,
   "metadata": {},
   "outputs": [
    {
     "name": "stdout",
     "output_type": "stream",
     "text": [
      "[*********************100%***********************]  2 of 2 completed\n"
     ]
    },
    {
     "data": {
      "text/plain": [
       "AGG    7119 days\n",
       "SPY   11014 days\n",
       "dtype: timedelta64[ns]"
      ]
     },
     "execution_count": 1,
     "metadata": {},
     "output_type": "execute_result"
    }
   ],
   "source": [
    "\n",
    "from src.core import metrics\n",
    "\n",
    "import yfinance as yf\n",
    "\n",
    "prices = yf.download(\"SPY, AGG\")[\"Adj Close\"]\n",
    "\n",
    "start = metrics.to_starts(prices)\n",
    "end = metrics.to_ends(prices)\n",
    "end - start"
   ]
  },
  {
   "cell_type": "code",
   "execution_count": null,
   "metadata": {},
   "outputs": [],
   "source": [
    "import glob\n",
    "from datetime import date, timedelta\n",
    "import numpy as np\n",
    "import pandas as pd\n",
    "\n",
    "path = \"price/*.xls\"\n",
    "files = glob.glob(pathname=path)\n",
    "\n",
    "yesterday = date.today() - timedelta(days=1)\n",
    "\n",
    "for file in files:\n",
    "    data = pd.read_excel(file)[[\"종목\", \"현재가\"]]\n",
    "    data.columns = [\"ticker\", \"value\"]\n",
    "    if pd.api.types.is_object_dtype(data[\"value\"].dtype):\n",
    "        data[\"value\"] = data[\"value\"].str.replace(\",\", \"\").astype(float)\n",
    "    data[\"date\"] = yesterday\n",
    "    data[\"field\"] = \"CLOSE\"\n",
    "    print(data)\n"
   ]
  },
  {
   "cell_type": "code",
   "execution_count": null,
   "metadata": {},
   "outputs": [],
   "source": []
  },
  {
   "cell_type": "code",
   "execution_count": null,
   "metadata": {},
   "outputs": [],
   "source": [
    "from src.core import strategy\n",
    "from src.core import metrics\n",
    "import yfinance as yf\n",
    "\n",
    "prices = yf.download(\"XLU, XLK, XLB, XLP, XLY, XLI, XLV, XLF\")[\"Adj Close\"]\n",
    "\n",
    "strategy = strategy.Momentum(prices).simulate(\n",
    "    start=\"2015-1-1\", min_volatility=0.12\n",
    ")\n",
    "\n",
    "strategy.value.plot()\n",
    "print(strategy.analytics())\n"
   ]
  }
 ],
 "metadata": {
  "kernelspec": {
   "display_name": "Python 3",
   "language": "python",
   "name": "python3"
  },
  "language_info": {
   "codemirror_mode": {
    "name": "ipython",
    "version": 3
   },
   "file_extension": ".py",
   "mimetype": "text/x-python",
   "name": "python",
   "nbconvert_exporter": "python",
   "pygments_lexer": "ipython3",
   "version": "3.9.6"
  },
  "orig_nbformat": 4
 },
 "nbformat": 4,
 "nbformat_minor": 2
}
