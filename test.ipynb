{
 "cells": [
  {
   "cell_type": "code",
   "execution_count": 15,
   "metadata": {},
   "outputs": [
    {
     "name": "stdout",
     "output_type": "stream",
     "text": [
      "[*********************100%***********************]  2 of 2 completed\n",
      "simulate |██████████████████████████████████████████████████| 100.00% 2023-05-08 - 3463.99\n"
     ]
    },
    {
     "data": {
      "text/plain": [
       "<AxesSubplot:>"
      ]
     },
     "execution_count": 15,
     "metadata": {},
     "output_type": "execute_result"
    },
    {
     "data": {
      "image/png": "[encoded data removed]",
      "text/plain": [
       "<Figure size 640x480 with 1 Axes>"
      ]
     },
     "metadata": {},
     "output_type": "display_data"
    }
   ],
   "source": [
    "\n",
    "\n",
    "import numpy as np\n",
    "import yfinance as yf\n",
    "\n",
    "def test(prices: pd.DataFrame):\n",
    "    \n",
    "    \"\"\"Default rebalancing method\"\"\"\n",
    "    asset = prices.iloc[-1].dropna().index\n",
    "    uniform_weight = np.ones(len(asset))\n",
    "    uniform_weight /= uniform_weight.sum()\n",
    "    weight = pd.Series(index=asset, data=uniform_weight)\n",
    "    return weight\n",
    "\n",
    "prices = yf.download(\"SPY, AGG\")[\"Adj Close\"].dropna()\n",
    "\n",
    "strategy = Strategy(prices=prices, rebalance=test).simulate()\n",
    "strategy.value.plot()"
   ]
  },
  {
   "cell_type": "code",
   "execution_count": 2,
   "metadata": {},
   "outputs": [
    {
     "data": {
      "text/plain": [
       "<function __main__.test(prices: pandas.core.frame.DataFrame)>"
      ]
     },
     "execution_count": 2,
     "metadata": {},
     "output_type": "execute_result"
    }
   ],
   "source": [
    "strategy.rebalance"
   ]
  },
  {
   "cell_type": "code",
   "execution_count": null,
   "metadata": {},
   "outputs": [],
   "source": [
    "from app import database\n",
    "import pandas as pd\n",
    "from app import config\n",
    "\n",
    "database.create_all()\n",
    "database.models.Meta.insert(\n",
    "    pd.read_excel(\n",
    "        config.DATABASE_EXC, \n",
    "        sheet_name=\"tb_meta\", \n",
    "        parse_dates=[\"inception_date\"]\n",
    "    )\n",
    ")\n"
   ]
  },
  {
   "cell_type": "code",
   "execution_count": null,
   "metadata": {},
   "outputs": [],
   "source": [
    "from app import database as db\n",
    "\n",
    "# with db.engine.connect() as conn:\n",
    "#     conn.execute(\n",
    "#         f\"CREATE VIEW tb_test AS SELECT * FROM tb_meta WHERE tb_meta.meta_type == 'Equity'\"\n",
    "#     )\n",
    "\n",
    "\n",
    "with db.SessionContext() as session:\n",
    "    \n",
    "    result = session.execute(\"SELECT * FROM tb_test\")\n",
    "    \n",
    "    print(result.fetchall())\n"
   ]
  },
  {
   "cell_type": "code",
   "execution_count": null,
   "metadata": {},
   "outputs": [],
   "source": [
    "from app.core.strategies import HierarchicalEqualRiskContribution\n",
    "import yfinance as yf\n",
    "\n",
    "prices = yf.download(\"SPY, QQQ, XLG, XLV, XLU, XLB\")[\"Adj Close\"]\n",
    "\n",
    "strategy = HierarchicalEqualRiskContribution(prices=prices.dropna()).simulate(\"2023-1-1\")\n",
    "\n",
    "strategy.value.plot()"
   ]
  },
  {
   "cell_type": "code",
   "execution_count": null,
   "metadata": {},
   "outputs": [],
   "source": [
    "from typing import Optional\n",
    "import pandas as pd\n",
    "from app.core.strategies import Strategy\n",
    "from app.core.analytics.features import momentum\n",
    "from app.core.analytics.metrics import to_ann_volatility\n",
    "\n",
    "\n",
    "class DualMomentum(Strategy):\n",
    "    # Objective: balanced growth\n",
    "    # Type: momentum strategy\n",
    "    # Invests in: ETFs tracking stocks, bonds, real estate, and gold\n",
    "    # Rebalancing schedule: monthly\n",
    "    # Taxation: 50% short-term capital gains\n",
    "    # Minimum account size: $5,000\n",
    "    def rebalance(self) -> Optional[pd.Series]:\n",
    "        single_weight = 1 / (len(self.reb_prices.columns) - 1)\n",
    "        safe = to_ann_volatility(self.reb_prices.iloc[-252:]).idxmin()\n",
    "        mome_1y = momentum(self.reb_prices, months=6).iloc[-1]\n",
    "        safe_mome = mome_1y.loc[safe]\n",
    "        weights = {}\n",
    "        for asset in self.reb_prices:\n",
    "            if asset == safe:\n",
    "                continue\n",
    "            if mome_1y.loc[asset] > safe_mome:\n",
    "                weights.update({asset: single_weight})\n",
    "            else:\n",
    "                if safe in weights.keys():\n",
    "                    weights.update({safe: weights[safe] + single_weight})\n",
    "                else:\n",
    "                    weights.update({safe: single_weight})\n",
    "        return pd.Series(weights)\n",
    "\n",
    "\n",
    "import yfinance as yf\n",
    "\n",
    "prices = yf.download(\"SPY, VNQ, XLK, XLU, XLB, XLV, XLY, XLG, BIL, AGG, TLT\")[\"Adj Close\"]\n",
    "\n",
    "strategy = DualMomentum(prices=prices).simulate(\"2015-1-1\")\n",
    "\n",
    "strategy.value.plot()\n"
   ]
  },
  {
   "cell_type": "code",
   "execution_count": null,
   "metadata": {},
   "outputs": [],
   "source": [
    "from app.core.portfolios import Optimizer\n",
    "from app.core.strategies import Strategy\n",
    "\n",
    "class MaxSharpe(Strategy):\n",
    "    def rebalance(self):\n",
    "        prices = self.reb_prices.iloc[-252:]\n",
    "        opt = Optimizer.from_prices(prices)\n",
    "        return opt.maximized_sharpe_ratio()\n",
    "\n",
    "import yfinance as yf\n",
    "\n",
    "prices = yf.download(\"SPY, VNQ, XLK, XLU, XLB, XLV, XLY, XLG, BIL, AGG, TLT\")[\"Adj Close\"]\n",
    "\n",
    "prices"
   ]
  },
  {
   "cell_type": "code",
   "execution_count": null,
   "metadata": {},
   "outputs": [],
   "source": [
    "test = prices.copy()\n",
    "test[~test.isnull()] = 1\n",
    "test\n"
   ]
  },
  {
   "cell_type": "code",
   "execution_count": null,
   "metadata": {},
   "outputs": [],
   "source": [
    "from app.core.strategies import HierarchicalEqualRiskContribution\n",
    "import yfinance as yf\n",
    "\n",
    "prices = yf.download(\"SPY, AGG, GSG, TLT\")[\"Adj Close\"]\n",
    "\n",
    "strategy = HierarchicalEqualRiskContribution(prices=prices.dropna()).simulate()\n",
    "\n",
    "strategy.value\n"
   ]
  },
  {
   "cell_type": "code",
   "execution_count": null,
   "metadata": {},
   "outputs": [],
   "source": [
    "from src import database as db\n",
    "\n",
    "with db.SessionContext() as session:\n",
    "\n",
    "    for (source,) in session.query(db.models.Meta.source).distinct():\n",
    "\n",
    "        print(source)\n",
    "        if source == \"YAHOO\":\n",
    "            import yfinance as yf\n",
    "            for meta in (\n",
    "                session.query(db.models.Meta).filter(db.models.Meta.source == source).all()\n",
    "            ):\n",
    "                data = yf.download(\n",
    "                    tickers=meta.code, start=\"1980-1-1\", progress=False, actions=True\n",
    "                ).reset_index()\n",
    "                data.columns = data.columns.str.lower()\n",
    "                data.columns = data.columns.str.replace(\" \", \"_\")\n",
    "                data[\"pri_return\"] = (\n",
    "                    data.close.divide(data.close.shift(1)).subtract(1).fillna(0)\n",
    "                )\n",
    "                if \"dividends\" in data.columns:\n",
    "                    data[\"dvd_return\"] = (\n",
    "                        data.dividends.divide(data.close.shift(1)).fillna(0)\n",
    "                    )\n",
    "                else:\n",
    "                    data[\"dvd_return\"] = 0\n",
    "                data[\"tot_return\"] = data[\"pri_return\"].add(data[\"dvd_return\"])\n",
    "                data = data.assign(meta_id=meta.meta_id)\n",
    "                print(data)\n",
    "\n",
    "        elif source == \"NAVER\":\n",
    "            import pandas_datareader as pdr\n",
    "            for meta in (\n",
    "                session.query(db.models.Meta).filter(db.models.Meta.source == source).all()\n",
    "            ):\n",
    "                data = pdr.DataReader(name=meta.code, data_source=\"naver\", start=\"1980-1-1\").astype(float)\n",
    "                data = data.reset_index()\n",
    "                data.columns = data.columns.str.lower()\n",
    "                data.columns = data.columns.str.replace(\" \", \"_\")\n",
    "                data[\"pri_return\"] = (\n",
    "                    data.close.divide(data.close.shift(1)).subtract(1).fillna(0)\n",
    "                )\n",
    "                if \"dividends\" in data.columns:\n",
    "                    data[\"dvd_return\"] = (\n",
    "                        data.dividends.divide(data.close.shift(1)).fillna(0)\n",
    "                    )\n",
    "                else:\n",
    "                    data[\"dvd_return\"] = 0\n",
    "                data[\"tot_return\"] = data[\"pri_return\"].add(data[\"dvd_return\"])\n",
    "                data = data.assign(meta_id=meta.meta_id)\n",
    "                print(data)\n",
    "        else:\n",
    "            data = None\n",
    "        \n",
    "\n"
   ]
  },
  {
   "cell_type": "code",
   "execution_count": null,
   "metadata": {},
   "outputs": [],
   "source": [
    "import pandas as pd\n",
    "\n",
    "w = pd.read_clipboard(index_col=\"date\")\n",
    "r = w.stack().astype(float)\n",
    "r = r.reset_index()\n",
    "r.columns = [\"date\", \"ticker\", \"weight\"]\n",
    "r = r[r.weight != 0.0]\n",
    "r.to_clipboard()"
   ]
  },
  {
   "cell_type": "code",
   "execution_count": null,
   "metadata": {},
   "outputs": [],
   "source": [
    "pd.to_datetime(pd.to_datetime(\"2022-2-1\")).to_pydatetime()"
   ]
  },
  {
   "cell_type": "code",
   "execution_count": null,
   "metadata": {},
   "outputs": [],
   "source": [
    "pd.read_excel(\n",
    "    config.DATABASE_EXC, \n",
    "    sheet_name=\"tb_meta\", \n",
    "    parse_dates=[\"inception_date\"]\n",
    ").sort_values(\"meta_id\")"
   ]
  },
  {
   "cell_type": "code",
   "execution_count": null,
   "metadata": {},
   "outputs": [],
   "source": [
    "import pandas_datareader as pdr\n",
    "import pandas as pd\n",
    "def leading_economic_indicator() -> pd.DataFrame:\n",
    "    \"\"\"\n",
    "    Get raw data for leading economic indicator regime.\n",
    "    \"\"\"\n",
    "    tickers = dict(USALOLITONOSTSAM=\"USLEI\")\n",
    "    data = pdr.DataReader(list(tickers.keys()), \"fred\", start=\"1900-01-01\").resample(\"M\").last()\n",
    "    data = data.rename(columns=tickers)\n",
    "    return data[['USLEI']]\n",
    "\n",
    "leading_economic_indicator()"
   ]
  },
  {
   "cell_type": "code",
   "execution_count": null,
   "metadata": {},
   "outputs": [],
   "source": [
    "from src.core import metrics\n",
    "\n",
    "\n",
    "import pandas as pd\n",
    "nav = pd.read_clipboard(index_col=\"date\", parse_dates=True)\n",
    "nav"
   ]
  },
  {
   "cell_type": "code",
   "execution_count": null,
   "metadata": {},
   "outputs": [],
   "source": [
    "metrics.to_max_drawdown(nav).to_clipboard()"
   ]
  },
  {
   "cell_type": "code",
   "execution_count": null,
   "metadata": {},
   "outputs": [],
   "source": [
    "(prices / prices.resample(\"D\").last().ffill().shift(1, freq=pd.DateOffset(months=1))).dropna()\n"
   ]
  },
  {
   "cell_type": "code",
   "execution_count": null,
   "metadata": {},
   "outputs": [],
   "source": [
    "prices.pct_change(21)"
   ]
  },
  {
   "cell_type": "code",
   "execution_count": null,
   "metadata": {},
   "outputs": [],
   "source": [
    "import pandas as pd\n",
    "\n",
    "pri_returns = prices.pct_change()\n",
    "latest_date = pri_returns.index[-1]\n",
    "start_date = latest_date + pd.DateOffset(years=5)\n",
    "start_date"
   ]
  },
  {
   "cell_type": "code",
   "execution_count": null,
   "metadata": {},
   "outputs": [],
   "source": [
    "from src import db\n",
    "\n",
    "\n",
    "db.create_all()"
   ]
  },
  {
   "cell_type": "code",
   "execution_count": null,
   "metadata": {},
   "outputs": [],
   "source": [
    "import pandas as pd\n",
    "\n",
    "pr_date = prices.index[-1] - pd.DateOffset(years = 1)\n",
    "\n",
    "prices.iloc[-1] / prices.iloc[prices.index.get_loc(pr_date)] - 1"
   ]
  },
  {
   "cell_type": "code",
   "execution_count": null,
   "metadata": {},
   "outputs": [],
   "source": [
    "import pandas_datareader as pdr\n",
    "\n",
    "\n",
    "\n",
    "price = pdr.DataReader(\"329200\", \"naver\", start=\"2021-4-1\")\n",
    "price.to_csv(\"329200.csv\")"
   ]
  },
  {
   "cell_type": "code",
   "execution_count": null,
   "metadata": {},
   "outputs": [],
   "source": []
  },
  {
   "cell_type": "code",
   "execution_count": null,
   "metadata": {},
   "outputs": [],
   "source": [
    "import json\n",
    "\n",
    "import pandas as pd\n",
    "from sec_api import QueryApi\n",
    "from sec_api import ExtractorApi\n",
    "from src.config import EDGAR_API\n",
    "\n",
    "queryApi = QueryApi(api_key=EDGAR_API)\n",
    "\n",
    "query = {\n",
    "    \"query\": {\n",
    "        \"query_string\": {\n",
    "            \"query\": \"ticker:TSLA\",\n",
    "        }\n",
    "    },\n",
    "    \"from\": \"200\",\n",
    "    \"size\": \"300\",\n",
    "    \"sort\": [{\"filedAt\": {\"order\": \"desc\"}}],\n",
    "}\n",
    "\n",
    "response = queryApi.get_filings(query)\n",
    "\n",
    "\n",
    "metadata = pd.DataFrame.from_records(response[\"filings\"])\n",
    "\n",
    "print(metadata)\n",
    "\n",
    "\n",
    "# extractorApi = ExtractorApi(EDGAR_API)\n",
    "\n",
    "\n",
    "# sections_10_k = {\n",
    "#     \"1\": \"Business\",\n",
    "#     \"1A\": \"Risk Factors\",\n",
    "#     \"1B\": \"Unresolved Staff Comments\",\n",
    "#     \"2\": \"Properties\",\n",
    "#     \"3\": \"Legal Proceedings\",\n",
    "#     \"4\": \"Mine Safety Disclosures\",\n",
    "#     \"5\": \"Market for Registrant’s Common Equity, Related Stockholder Matters and Issuer Purchases of Equity Securities\",\n",
    "#     \"6\": \"Selected Financial Data (prior to February 2021)\",\n",
    "#     \"7\": \"Management’s Discussion and Analysis of Financial Condition and Results of Operations\",\n",
    "#     \"7A\": \"Quantitative and Qualitative Disclosures about Market Risk\",\n",
    "#     \"8\": \"Financial Statements and Supplementary Data\",\n",
    "#     \"9\": \"Changes in and Disagreements with Accountants on Accounting and Financial Disclosure\",\n",
    "#     \"9A\": \"Controls and Procedures\",\n",
    "#     \"9B\": \"Other Information\",\n",
    "#     \"10\": \"Directors, Executive Officers and Corporate Governance\",\n",
    "#     \"11\": \"Executive Compensation\",\n",
    "#     \"12\": \"Security Ownership of Certain Beneficial Owners and Management and Related Stockholder Matters\",\n",
    "#     \"13\": \"Certain Relationships and Related Transactions, and Director Independence\",\n",
    "#     \"14\": \"Principal Accountant Fees and Services\",\n",
    "# }\n",
    "\n",
    "\n",
    "# for id, f in enumerate(response[\"filings\"]):\n",
    "#     if f[\"formType\"] == \"10-K\":\n",
    "#         url_10k = f[\"linkToFilingDetails\"]\n",
    "\n",
    "#         out = {}\n",
    "\n",
    "#         for sec, des in sections_10_k.items():\n",
    "#             out[des] = extractorApi.get_section(url_10k, sec, \"text\")\n",
    "\n",
    "#         filename = f\"{id}.json\"\n",
    "\n",
    "#         with open(filename, \"w\") as f:\n",
    "#             json.dump(out, f)\n"
   ]
  },
  {
   "cell_type": "code",
   "execution_count": null,
   "metadata": {},
   "outputs": [],
   "source": [
    "metadata.to_csv(\n",
    "    'test.csv'\n",
    ")"
   ]
  },
  {
   "cell_type": "code",
   "execution_count": null,
   "metadata": {},
   "outputs": [],
   "source": [
    "response['filings'][0]['linkToTxt']"
   ]
  },
  {
   "cell_type": "code",
   "execution_count": null,
   "metadata": {},
   "outputs": [],
   "source": [
    "\n",
    "\n",
    "# 8-K example\n",
    "url_8k = \"https://www.sec.gov/Archives/edgar/data/66600/000149315222016468/form8-k.htm\"\n",
    "\n",
    "item_1_1_text = extractorApi.get_section(response['filings'][0]['linkToTxt'], \"1-1\", \"text\")\n",
    "item_1_1_text"
   ]
  },
  {
   "cell_type": "code",
   "execution_count": null,
   "metadata": {},
   "outputs": [],
   "source": [
    "\n",
    "\n",
    "stra = strategy.HierarchicalEqualRiskContribution(prices=prices).simulate(\n",
    "    start=\"2015-1-1\"\n",
    ")\n",
    "stra.value.plot()\n",
    "# weights_bm = prices.notna().divide(prices.notna().sum(axis=1), axis=0)\n",
    "# metrics.to_pri_return(prices=prices).multiply(weights_bm).sum(axis=1).loc[\"2015-1-1\":].add(1).cumprod().multiply(1000).plot()\n",
    "stra.analytics()"
   ]
  },
  {
   "cell_type": "code",
   "execution_count": null,
   "metadata": {},
   "outputs": [],
   "source": [
    "from src import db\n",
    "\n",
    "\n",
    "with db.SessionContext() as session:\n",
    "    \n",
    "    query = session.query(db.models.Meta)\n",
    "    \n",
    "    result = list(record.to_dict() for record in query.all())\n",
    "    \n",
    "print(result)"
   ]
  },
  {
   "cell_type": "code",
   "execution_count": null,
   "metadata": {},
   "outputs": [],
   "source": [
    "import pandas as pd\n",
    "\n",
    "pd.DataFrame(result)"
   ]
  },
  {
   "cell_type": "code",
   "execution_count": null,
   "metadata": {},
   "outputs": [],
   "source": [
    "import plotly.graph_objs as go\n",
    "from plotly.subplots import make_subplots\n",
    "\n",
    "# create line chart trace\n",
    "line_trace = go.Scatter(\n",
    "    x=stra.value.index, y=stra.value.values, mode=\"lines\", name=stra.value.name\n",
    ")\n",
    "\n",
    "# create stacked bar chart traces\n",
    "bar_traces = []\n",
    "for col in stra.allocations.columns:\n",
    "    trace = go.Bar(x=stra.allocations.index, y=stra.allocations[col]*100, name=col)\n",
    "    bar_traces.append(trace)\n",
    "\n",
    "# create subplots\n",
    "fig = make_subplots(rows=2, cols=1, shared_xaxes=True)\n",
    "\n",
    "# add line chart to the first subplot with its own legend\n",
    "fig.add_trace(line_trace, row=1, col=1)\n",
    "fig.update_traces(showlegend=True, row=1, col=1)\n",
    "\n",
    "# add stacked bar chart to the second subplot with its own legend\n",
    "for trace in bar_traces:\n",
    "    fig.add_trace(trace, row=2, col=1)\n",
    "    fig.update_traces(showlegend=True, row=2, col=1)\n",
    "\n",
    "# update chart layout and style\n",
    "fig.update_layout(\n",
    "    title=\"My Beautiful Subplots\",\n",
    "    xaxis_title=\"Date\",\n",
    "    yaxis_title=\"Values\",\n",
    "    template=\"plotly_dark\",\n",
    "    hovermode=\"x unified\",\n",
    "    showlegend=True,\n",
    "    legend=dict(\n",
    "        x=0.5,\n",
    "        y=1.2,\n",
    "        orientation='h',\n",
    "        xanchor='center',\n",
    "        yanchor='bottom',\n",
    "        bordercolor=\"white\",\n",
    "        borderwidth=1,\n",
    "        bgcolor=\"white\",\n",
    "        font=dict(size=12),\n",
    "    ),\n",
    "    font=dict(family=\"Arial\", size=12, color=\"black\"),\n",
    "    barmode=\"stack\",\n",
    "    # add legends for subplots\n",
    "    annotations=[\n",
    "        dict(\n",
    "            x=0.5,\n",
    "            y=1.1,\n",
    "            xref=\"paper\",\n",
    "            yref=\"paper\",\n",
    "            showarrow=False,\n",
    "            text=\"<b>Line Chart</b>\",\n",
    "            font=dict(size=14),\n",
    "            align=\"center\",\n",
    "        ),\n",
    "        dict(\n",
    "            x=0.5,\n",
    "            y=0.6,\n",
    "            xref=\"paper\",\n",
    "            yref=\"paper\",\n",
    "            showarrow=False,\n",
    "            text=\"<b>Stacked Bar Chart</b>\",\n",
    "            font=dict(size=14),\n",
    "            align=\"center\",\n",
    "        ),\n",
    "    ],\n",
    ")\n",
    "\n",
    "# show the chart\n",
    "fig.show()\n"
   ]
  },
  {
   "cell_type": "code",
   "execution_count": null,
   "metadata": {},
   "outputs": [],
   "source": [
    "from src.core.portfolios import Optimizer\n",
    "import yfinance as yf\n",
    "\n",
    "prices = yf.download(\"SPY, AGG, GSG, TLT\")[\"Adj Close\"]\n",
    "opt = Optimizer.from_prices(prices=prices)\n",
    "opt.hierarchical_equal_risk_contribution()"
   ]
  },
  {
   "cell_type": "code",
   "execution_count": null,
   "metadata": {},
   "outputs": [],
   "source": [
    "opt.hierarchical_risk_parity()"
   ]
  },
  {
   "cell_type": "code",
   "execution_count": null,
   "metadata": {},
   "outputs": [],
   "source": [
    "opt.maximized_sharpe_ratio()"
   ]
  },
  {
   "cell_type": "code",
   "execution_count": null,
   "metadata": {},
   "outputs": [],
   "source": []
  }
 ],
 "metadata": {
  "kernelspec": {
   "display_name": "Python 3",
   "language": "python",
   "name": "python3"
  },
  "language_info": {
   "codemirror_mode": {
    "name": "ipython",
    "version": 3
   },
   "file_extension": ".py",
   "mimetype": "text/x-python",
   "name": "python",
   "nbconvert_exporter": "python",
   "pygments_lexer": "ipython3",
   "version": "3.9.6"
  },
  "orig_nbformat": 4,
  "vscode": {
   "interpreter": {
    "hash": "e24c49cb70330bda4278cf1d73522e240c5ff00972b9664bed3bfe636b47b7ca"
   }
  }
 },
 "nbformat": 4,
 "nbformat_minor": 2
}
