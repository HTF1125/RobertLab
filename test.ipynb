{
 "cells": [
  {
   "cell_type": "code",
   "execution_count": 1,
   "metadata": {},
   "outputs": [
    {
     "name": "stdout",
     "output_type": "stream",
     "text": [
      "[*********************100%***********************]  2 of 2 completed\n"
     ]
    },
    {
     "data": {
      "text/plain": [
       "AGG    7119 days\n",
       "SPY   11014 days\n",
       "dtype: timedelta64[ns]"
      ]
     },
     "execution_count": 1,
     "metadata": {},
     "output_type": "execute_result"
    }
   ],
   "source": [
    "\n",
    "from src.core import metrics\n",
    "\n",
    "import yfinance as yf\n",
    "\n",
    "prices = yf.download(\"SPY, AGG\")[\"Adj Close\"]\n",
    "\n",
    "start = metrics.to_starts(prices)\n",
    "end = metrics.to_ends(prices)\n",
    "end - start"
   ]
  },
  {
   "cell_type": "code",
   "execution_count": null,
   "metadata": {},
   "outputs": [],
   "source": [
    "import glob\n",
    "from datetime import date, timedelta\n",
    "import numpy as np\n",
    "import pandas as pd\n",
    "\n",
    "path = \"price/*.xls\"\n",
    "files = glob.glob(pathname=path)\n",
    "\n",
    "yesterday = date.today() - timedelta(days=1)\n",
    "\n",
    "for file in files:\n",
    "    data = pd.read_excel(file)[[\"종목\", \"현재가\"]]\n",
    "    data.columns = [\"ticker\", \"value\"]\n",
    "    if pd.api.types.is_object_dtype(data[\"value\"].dtype):\n",
    "        data[\"value\"] = data[\"value\"].str.replace(\",\", \"\").astype(float)\n",
    "    data[\"date\"] = yesterday\n",
    "    data[\"field\"] = \"CLOSE\"\n",
    "    print(data)\n"
   ]
  },
  {
   "cell_type": "code",
   "execution_count": null,
   "metadata": {},
   "outputs": [],
   "source": []
  },
  {
   "cell_type": "code",
   "execution_count": null,
   "metadata": {},
   "outputs": [],
   "source": [
    "from src.core import strategy\n",
    "from src.core import metrics\n",
    "import yfinance as yf\n",
    "\n",
    "prices = yf.download(\"XLU, XLK, XLB, XLP, XLY, XLI, XLV, XLF\")[\"Adj Close\"]\n",
    "\n",
    "strategy = strategy.Momentum(prices).simulate(\n",
    "    start=\"2015-1-1\", min_volatility=0.12\n",
    ")\n",
    "\n",
    "strategy.value.plot()\n",
    "print(strategy.analytics())\n"
   ]
  }
 ],
 "metadata": {
  "kernelspec": {
   "display_name": "Python 3",
   "language": "python",
   "name": "python3"
  },
  "language_info": {
   "codemirror_mode": {
    "name": "ipython",
    "version": 3
   },
   "file_extension": ".py",
   "mimetype": "text/x-python",
   "name": "python",
   "nbconvert_exporter": "python",
   "pygments_lexer": "ipython3",
   "version": "3.9.6"
  },
  "orig_nbformat": 4
 },
 "nbformat": 4,
 "nbformat_minor": 2
}
