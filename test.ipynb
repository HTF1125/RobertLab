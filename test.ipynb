{
 "cells": [
  {
   "cell_type": "code",
   "execution_count": 1,
   "metadata": {},
   "outputs": [
    {
     "ename": "ParserError",
     "evalue": "Unknown string format: None",
     "output_type": "error",
     "traceback": [
      "\u001b[1;31m---------------------------------------------------------------------------\u001b[0m",
      "\u001b[1;31mParserError\u001b[0m                               Traceback (most recent call last)",
      "\u001b[1;32mc:\\Users\\hanti\\Codes\\RobertLab\\test.ipynb Cell 1\u001b[0m in \u001b[0;36m6\n\u001b[0;32m      <a href='vscode-notebook-cell:/c%3A/Users/hanti/Codes/RobertLab/test.ipynb#W0sZmlsZQ%3D%3D?line=2'>3</a>\u001b[0m \u001b[39mfrom\u001b[39;00m \u001b[39msrc\u001b[39;00m \u001b[39mimport\u001b[39;00m config\n\u001b[0;32m      <a href='vscode-notebook-cell:/c%3A/Users/hanti/Codes/RobertLab/test.ipynb#W0sZmlsZQ%3D%3D?line=4'>5</a>\u001b[0m database\u001b[39m.\u001b[39mcreate_all()\n\u001b[1;32m----> <a href='vscode-notebook-cell:/c%3A/Users/hanti/Codes/RobertLab/test.ipynb#W0sZmlsZQ%3D%3D?line=5'>6</a>\u001b[0m database\u001b[39m.\u001b[39;49mmodels\u001b[39m.\u001b[39;49mMeta\u001b[39m.\u001b[39;49mupdate(\n\u001b[0;32m      <a href='vscode-notebook-cell:/c%3A/Users/hanti/Codes/RobertLab/test.ipynb#W0sZmlsZQ%3D%3D?line=6'>7</a>\u001b[0m     pd\u001b[39m.\u001b[39;49mread_excel(\n\u001b[0;32m      <a href='vscode-notebook-cell:/c%3A/Users/hanti/Codes/RobertLab/test.ipynb#W0sZmlsZQ%3D%3D?line=7'>8</a>\u001b[0m         config\u001b[39m.\u001b[39;49mDATABASE_EXC, \n\u001b[0;32m      <a href='vscode-notebook-cell:/c%3A/Users/hanti/Codes/RobertLab/test.ipynb#W0sZmlsZQ%3D%3D?line=8'>9</a>\u001b[0m         sheet_name\u001b[39m=\u001b[39;49m\u001b[39m\"\u001b[39;49m\u001b[39mtb_meta\u001b[39;49m\u001b[39m\"\u001b[39;49m, \n\u001b[0;32m     <a href='vscode-notebook-cell:/c%3A/Users/hanti/Codes/RobertLab/test.ipynb#W0sZmlsZQ%3D%3D?line=9'>10</a>\u001b[0m         parse_dates\u001b[39m=\u001b[39;49m[\u001b[39m\"\u001b[39;49m\u001b[39minception_date\u001b[39;49m\u001b[39m\"\u001b[39;49m]\n\u001b[0;32m     <a href='vscode-notebook-cell:/c%3A/Users/hanti/Codes/RobertLab/test.ipynb#W0sZmlsZQ%3D%3D?line=10'>11</a>\u001b[0m     )\n\u001b[0;32m     <a href='vscode-notebook-cell:/c%3A/Users/hanti/Codes/RobertLab/test.ipynb#W0sZmlsZQ%3D%3D?line=11'>12</a>\u001b[0m )\n",
      "File \u001b[1;32mc:\\Users\\hanti\\Codes\\RobertLab\\src\\database\\models\\mixins.py:114\u001b[0m, in \u001b[0;36mMixins.update\u001b[1;34m(cls, records, **kwargs)\u001b[0m\n\u001b[0;32m    109\u001b[0m \u001b[39melse\u001b[39;00m:\n\u001b[0;32m    110\u001b[0m     \u001b[39mraise\u001b[39;00m \u001b[39mTypeError\u001b[39;00m(\n\u001b[0;32m    111\u001b[0m         \u001b[39m\"\u001b[39m\u001b[39minsert only takes pd.Series or pd.DataFrame,\u001b[39m\u001b[39m\"\u001b[39m\n\u001b[0;32m    112\u001b[0m         \u001b[39m+\u001b[39m \u001b[39m\"\u001b[39m\u001b[39m but \u001b[39m\u001b[39m{\u001b[39m\u001b[39mtype(records)} was given.\u001b[39m\u001b[39m\"\u001b[39m\n\u001b[0;32m    113\u001b[0m     )\n\u001b[1;32m--> 114\u001b[0m records \u001b[39m=\u001b[39m \u001b[39mcls\u001b[39;49m\u001b[39m.\u001b[39;49mparse_datetime(\u001b[39mcls\u001b[39;49m, records)\n\u001b[0;32m    116\u001b[0m session \u001b[39m=\u001b[39m kwargs\u001b[39m.\u001b[39mpop(\u001b[39m\"\u001b[39m\u001b[39msession\u001b[39m\u001b[39m\"\u001b[39m, \u001b[39mNone\u001b[39;00m)\n\u001b[0;32m    117\u001b[0m \u001b[39mif\u001b[39;00m session \u001b[39mis\u001b[39;00m \u001b[39mNone\u001b[39;00m:\n",
      "File \u001b[1;32mc:\\Users\\hanti\\Codes\\RobertLab\\src\\database\\models\\mixins.py:63\u001b[0m, in \u001b[0;36mMixins.parse_datetime\u001b[1;34m(table, records)\u001b[0m\n\u001b[0;32m     61\u001b[0m     \u001b[39mfor\u001b[39;00m d \u001b[39min\u001b[39;00m mapped[\u001b[39m\"\u001b[39m\u001b[39mdate\u001b[39m\u001b[39m\"\u001b[39m]:\n\u001b[0;32m     62\u001b[0m         \u001b[39mif\u001b[39;00m d \u001b[39min\u001b[39;00m record:\n\u001b[1;32m---> 63\u001b[0m             record[d] \u001b[39m=\u001b[39m parser\u001b[39m.\u001b[39;49mparse(\u001b[39mstr\u001b[39;49m(record[d]))\u001b[39m.\u001b[39mdate()\n\u001b[0;32m     64\u001b[0m \u001b[39mreturn\u001b[39;00m records\n",
      "File \u001b[1;32m~\\AppData\\Roaming\\Python\\Python39\\site-packages\\dateutil\\parser\\_parser.py:1368\u001b[0m, in \u001b[0;36mparse\u001b[1;34m(timestr, parserinfo, **kwargs)\u001b[0m\n\u001b[0;32m   1366\u001b[0m     \u001b[39mreturn\u001b[39;00m parser(parserinfo)\u001b[39m.\u001b[39mparse(timestr, \u001b[39m*\u001b[39m\u001b[39m*\u001b[39mkwargs)\n\u001b[0;32m   1367\u001b[0m \u001b[39melse\u001b[39;00m:\n\u001b[1;32m-> 1368\u001b[0m     \u001b[39mreturn\u001b[39;00m DEFAULTPARSER\u001b[39m.\u001b[39mparse(timestr, \u001b[39m*\u001b[39m\u001b[39m*\u001b[39mkwargs)\n",
      "File \u001b[1;32m~\\AppData\\Roaming\\Python\\Python39\\site-packages\\dateutil\\parser\\_parser.py:643\u001b[0m, in \u001b[0;36mparser.parse\u001b[1;34m(self, timestr, default, ignoretz, tzinfos, **kwargs)\u001b[0m\n\u001b[0;32m    640\u001b[0m res, skipped_tokens \u001b[39m=\u001b[39m \u001b[39mself\u001b[39m\u001b[39m.\u001b[39m_parse(timestr, \u001b[39m*\u001b[39m\u001b[39m*\u001b[39mkwargs)\n\u001b[0;32m    642\u001b[0m \u001b[39mif\u001b[39;00m res \u001b[39mis\u001b[39;00m \u001b[39mNone\u001b[39;00m:\n\u001b[1;32m--> 643\u001b[0m     \u001b[39mraise\u001b[39;00m ParserError(\u001b[39m\"\u001b[39m\u001b[39mUnknown string format: \u001b[39m\u001b[39m%s\u001b[39;00m\u001b[39m\"\u001b[39m, timestr)\n\u001b[0;32m    645\u001b[0m \u001b[39mif\u001b[39;00m \u001b[39mlen\u001b[39m(res) \u001b[39m==\u001b[39m \u001b[39m0\u001b[39m:\n\u001b[0;32m    646\u001b[0m     \u001b[39mraise\u001b[39;00m ParserError(\u001b[39m\"\u001b[39m\u001b[39mString does not contain a date: \u001b[39m\u001b[39m%s\u001b[39;00m\u001b[39m\"\u001b[39m, timestr)\n",
      "\u001b[1;31mParserError\u001b[0m: Unknown string format: None"
     ]
    }
   ],
   "source": [
    "from src import database\n",
    "import pandas as pd\n",
    "from src import config\n",
    "\n",
    "database.create_all()\n",
    "database.models.Meta.update(\n",
    "    pd.read_excel(\n",
    "        config.DATABASE_EXC, \n",
    "        sheet_name=\"tb_meta\", \n",
    "        parse_dates=[\"inception_date\"]\n",
    "    )\n",
    ")\n"
   ]
  },
  {
   "cell_type": "code",
   "execution_count": 9,
   "metadata": {},
   "outputs": [
    {
     "data": {
      "text/plain": [
       "datetime.datetime(2022, 2, 1, 0, 0)"
      ]
     },
     "execution_count": 9,
     "metadata": {},
     "output_type": "execute_result"
    }
   ],
   "source": [
    "pd.to_datetime(pd.to_datetime(\"2022-2-1\")).to_pydatetime()"
   ]
  },
  {
   "cell_type": "code",
   "execution_count": null,
   "metadata": {},
   "outputs": [],
   "source": [
    "pd.read_excel(\n",
    "    config.DATABASE_EXC, \n",
    "    sheet_name=\"tb_meta\", \n",
    "    parse_dates=[\"inception_date\"]\n",
    ").sort_values(\"meta_id\")"
   ]
  },
  {
   "cell_type": "code",
   "execution_count": null,
   "metadata": {},
   "outputs": [],
   "source": [
    "from src.core import strategy\n",
    "from src.core.analytics import metrics, estimators, features\n",
    "import yfinance as yf\n",
    "\n",
    "prices = yf.download(\"ACWI, BND, VNQ, SPY, QQQ, ARKW\")[\"Adj Close\"]\n",
    "\n",
    "# features.momentum(prices, years=5)"
   ]
  },
  {
   "cell_type": "code",
   "execution_count": 1,
   "metadata": {},
   "outputs": [
    {
     "ename": "ModuleNotFoundError",
     "evalue": "No module named 'hive'",
     "output_type": "error",
     "traceback": [
      "\u001b[1;31m---------------------------------------------------------------------------\u001b[0m",
      "\u001b[1;31mModuleNotFoundError\u001b[0m                       Traceback (most recent call last)",
      "\u001b[1;32mc:\\Users\\hanti\\Codes\\RobertLab\\test.ipynb Cell 5\u001b[0m in \u001b[0;36m1\n\u001b[1;32m----> <a href='vscode-notebook-cell:/c%3A/Users/hanti/Codes/RobertLab/test.ipynb#W4sZmlsZQ%3D%3D?line=0'>1</a>\u001b[0m \u001b[39mfrom\u001b[39;00m \u001b[39mhive\u001b[39;00m \u001b[39mimport\u001b[39;00m db\n",
      "\u001b[1;31mModuleNotFoundError\u001b[0m: No module named 'hive'"
     ]
    }
   ],
   "source": []
  },
  {
   "cell_type": "code",
   "execution_count": null,
   "metadata": {},
   "outputs": [],
   "source": [
    "(prices / prices.resample(\"D\").last().ffill().shift(1, freq=pd.DateOffset(months=1))).dropna()\n"
   ]
  },
  {
   "cell_type": "code",
   "execution_count": null,
   "metadata": {},
   "outputs": [],
   "source": [
    "prices.pct_change(21)"
   ]
  },
  {
   "cell_type": "code",
   "execution_count": null,
   "metadata": {},
   "outputs": [],
   "source": [
    "import pandas as pd\n",
    "\n",
    "pri_returns = prices.pct_change()\n",
    "latest_date = pri_returns.index[-1]\n",
    "start_date = latest_date + pd.DateOffset(years=5)\n",
    "start_date"
   ]
  },
  {
   "cell_type": "code",
   "execution_count": null,
   "metadata": {},
   "outputs": [],
   "source": [
    "from src import database\n",
    "\n",
    "\n",
    "database.create_all()"
   ]
  },
  {
   "cell_type": "code",
   "execution_count": null,
   "metadata": {},
   "outputs": [],
   "source": [
    "import pandas as pd\n",
    "\n",
    "pr_date = prices.index[-1] - pd.DateOffset(years = 1)\n",
    "\n",
    "prices.iloc[-1] / prices.iloc[prices.index.get_loc(pr_date)] - 1"
   ]
  },
  {
   "cell_type": "code",
   "execution_count": null,
   "metadata": {},
   "outputs": [],
   "source": [
    "import pandas_datareader as pdr\n",
    "\n",
    "\n",
    "\n",
    "price = pdr.DataReader(\"329200\", \"naver\", start=\"2021-4-1\")\n",
    "price.to_csv(\"329200.csv\")"
   ]
  },
  {
   "cell_type": "code",
   "execution_count": null,
   "metadata": {},
   "outputs": [],
   "source": []
  },
  {
   "cell_type": "code",
   "execution_count": null,
   "metadata": {},
   "outputs": [],
   "source": [
    "import json\n",
    "\n",
    "import pandas as pd\n",
    "from sec_api import QueryApi\n",
    "from sec_api import ExtractorApi\n",
    "from src.config import EDGAR_API\n",
    "\n",
    "queryApi = QueryApi(api_key=EDGAR_API)\n",
    "\n",
    "query = {\n",
    "    \"query\": {\n",
    "        \"query_string\": {\n",
    "            \"query\": \"ticker:TSLA\",\n",
    "        }\n",
    "    },\n",
    "    \"from\": \"200\",\n",
    "    \"size\": \"300\",\n",
    "    \"sort\": [{\"filedAt\": {\"order\": \"desc\"}}],\n",
    "}\n",
    "\n",
    "response = queryApi.get_filings(query)\n",
    "\n",
    "\n",
    "metadata = pd.DataFrame.from_records(response[\"filings\"])\n",
    "\n",
    "print(metadata)\n",
    "\n",
    "\n",
    "# extractorApi = ExtractorApi(EDGAR_API)\n",
    "\n",
    "\n",
    "# sections_10_k = {\n",
    "#     \"1\": \"Business\",\n",
    "#     \"1A\": \"Risk Factors\",\n",
    "#     \"1B\": \"Unresolved Staff Comments\",\n",
    "#     \"2\": \"Properties\",\n",
    "#     \"3\": \"Legal Proceedings\",\n",
    "#     \"4\": \"Mine Safety Disclosures\",\n",
    "#     \"5\": \"Market for Registrant’s Common Equity, Related Stockholder Matters and Issuer Purchases of Equity Securities\",\n",
    "#     \"6\": \"Selected Financial Data (prior to February 2021)\",\n",
    "#     \"7\": \"Management’s Discussion and Analysis of Financial Condition and Results of Operations\",\n",
    "#     \"7A\": \"Quantitative and Qualitative Disclosures about Market Risk\",\n",
    "#     \"8\": \"Financial Statements and Supplementary Data\",\n",
    "#     \"9\": \"Changes in and Disagreements with Accountants on Accounting and Financial Disclosure\",\n",
    "#     \"9A\": \"Controls and Procedures\",\n",
    "#     \"9B\": \"Other Information\",\n",
    "#     \"10\": \"Directors, Executive Officers and Corporate Governance\",\n",
    "#     \"11\": \"Executive Compensation\",\n",
    "#     \"12\": \"Security Ownership of Certain Beneficial Owners and Management and Related Stockholder Matters\",\n",
    "#     \"13\": \"Certain Relationships and Related Transactions, and Director Independence\",\n",
    "#     \"14\": \"Principal Accountant Fees and Services\",\n",
    "# }\n",
    "\n",
    "\n",
    "# for id, f in enumerate(response[\"filings\"]):\n",
    "#     if f[\"formType\"] == \"10-K\":\n",
    "#         url_10k = f[\"linkToFilingDetails\"]\n",
    "\n",
    "#         out = {}\n",
    "\n",
    "#         for sec, des in sections_10_k.items():\n",
    "#             out[des] = extractorApi.get_section(url_10k, sec, \"text\")\n",
    "\n",
    "#         filename = f\"{id}.json\"\n",
    "\n",
    "#         with open(filename, \"w\") as f:\n",
    "#             json.dump(out, f)\n"
   ]
  },
  {
   "cell_type": "code",
   "execution_count": null,
   "metadata": {},
   "outputs": [],
   "source": [
    "metadata.to_csv(\n",
    "    'test.csv'\n",
    ")"
   ]
  },
  {
   "cell_type": "code",
   "execution_count": null,
   "metadata": {},
   "outputs": [],
   "source": [
    "response['filings'][0]['linkToTxt']"
   ]
  },
  {
   "cell_type": "code",
   "execution_count": null,
   "metadata": {},
   "outputs": [],
   "source": [
    "\n",
    "\n",
    "# 8-K example\n",
    "url_8k = \"https://www.sec.gov/Archives/edgar/data/66600/000149315222016468/form8-k.htm\"\n",
    "\n",
    "item_1_1_text = extractorApi.get_section(response['filings'][0]['linkToTxt'], \"1-1\", \"text\")\n",
    "item_1_1_text"
   ]
  },
  {
   "cell_type": "code",
   "execution_count": null,
   "metadata": {},
   "outputs": [],
   "source": [
    "\n",
    "\n",
    "stra = strategy.HierarchicalEqualRiskContribution(prices=prices).simulate(\n",
    "    start=\"2015-1-1\"\n",
    ")\n",
    "stra.value.plot()\n",
    "# weights_bm = prices.notna().divide(prices.notna().sum(axis=1), axis=0)\n",
    "# metrics.to_pri_return(prices=prices).multiply(weights_bm).sum(axis=1).loc[\"2015-1-1\":].add(1).cumprod().multiply(1000).plot()\n",
    "stra.analytics()"
   ]
  },
  {
   "cell_type": "code",
   "execution_count": null,
   "metadata": {},
   "outputs": [],
   "source": [
    "from src import db\n",
    "\n",
    "\n",
    "with db.SessionContext() as session:\n",
    "    \n",
    "    query = session.query(db.models.Meta)\n",
    "    \n",
    "    result = list(record.to_dict() for record in query.all())\n",
    "    \n",
    "print(result)"
   ]
  },
  {
   "cell_type": "code",
   "execution_count": null,
   "metadata": {},
   "outputs": [],
   "source": [
    "import pandas as pd\n",
    "\n",
    "pd.DataFrame(result)"
   ]
  },
  {
   "cell_type": "code",
   "execution_count": null,
   "metadata": {},
   "outputs": [],
   "source": [
    "import plotly.graph_objs as go\n",
    "from plotly.subplots import make_subplots\n",
    "\n",
    "# create line chart trace\n",
    "line_trace = go.Scatter(\n",
    "    x=stra.value.index, y=stra.value.values, mode=\"lines\", name=stra.value.name\n",
    ")\n",
    "\n",
    "# create stacked bar chart traces\n",
    "bar_traces = []\n",
    "for col in stra.allocations.columns:\n",
    "    trace = go.Bar(x=stra.allocations.index, y=stra.allocations[col]*100, name=col)\n",
    "    bar_traces.append(trace)\n",
    "\n",
    "# create subplots\n",
    "fig = make_subplots(rows=2, cols=1, shared_xaxes=True)\n",
    "\n",
    "# add line chart to the first subplot with its own legend\n",
    "fig.add_trace(line_trace, row=1, col=1)\n",
    "fig.update_traces(showlegend=True, row=1, col=1)\n",
    "\n",
    "# add stacked bar chart to the second subplot with its own legend\n",
    "for trace in bar_traces:\n",
    "    fig.add_trace(trace, row=2, col=1)\n",
    "    fig.update_traces(showlegend=True, row=2, col=1)\n",
    "\n",
    "# update chart layout and style\n",
    "fig.update_layout(\n",
    "    title=\"My Beautiful Subplots\",\n",
    "    xaxis_title=\"Date\",\n",
    "    yaxis_title=\"Values\",\n",
    "    template=\"plotly_dark\",\n",
    "    hovermode=\"x unified\",\n",
    "    showlegend=True,\n",
    "    legend=dict(\n",
    "        x=0.5,\n",
    "        y=1.2,\n",
    "        orientation='h',\n",
    "        xanchor='center',\n",
    "        yanchor='bottom',\n",
    "        bordercolor=\"white\",\n",
    "        borderwidth=1,\n",
    "        bgcolor=\"white\",\n",
    "        font=dict(size=12),\n",
    "    ),\n",
    "    font=dict(family=\"Arial\", size=12, color=\"black\"),\n",
    "    barmode=\"stack\",\n",
    "    # add legends for subplots\n",
    "    annotations=[\n",
    "        dict(\n",
    "            x=0.5,\n",
    "            y=1.1,\n",
    "            xref=\"paper\",\n",
    "            yref=\"paper\",\n",
    "            showarrow=False,\n",
    "            text=\"<b>Line Chart</b>\",\n",
    "            font=dict(size=14),\n",
    "            align=\"center\",\n",
    "        ),\n",
    "        dict(\n",
    "            x=0.5,\n",
    "            y=0.6,\n",
    "            xref=\"paper\",\n",
    "            yref=\"paper\",\n",
    "            showarrow=False,\n",
    "            text=\"<b>Stacked Bar Chart</b>\",\n",
    "            font=dict(size=14),\n",
    "            align=\"center\",\n",
    "        ),\n",
    "    ],\n",
    ")\n",
    "\n",
    "# show the chart\n",
    "fig.show()\n"
   ]
  },
  {
   "cell_type": "code",
   "execution_count": null,
   "metadata": {},
   "outputs": [],
   "source": [
    "stra.weights.plot(stacked=True)"
   ]
  },
  {
   "cell_type": "code",
   "execution_count": null,
   "metadata": {},
   "outputs": [],
   "source": []
  }
 ],
 "metadata": {
  "kernelspec": {
   "display_name": "Python 3",
   "language": "python",
   "name": "python3"
  },
  "language_info": {
   "codemirror_mode": {
    "name": "ipython",
    "version": 3
   },
   "file_extension": ".py",
   "mimetype": "text/x-python",
   "name": "python",
   "nbconvert_exporter": "python",
   "pygments_lexer": "ipython3",
   "version": "3.9.6"
  },
  "orig_nbformat": 4,
  "vscode": {
   "interpreter": {
    "hash": "e24c49cb70330bda4278cf1d73522e240c5ff00972b9664bed3bfe636b47b7ca"
   }
  }
 },
 "nbformat": 4,
 "nbformat_minor": 2
}
