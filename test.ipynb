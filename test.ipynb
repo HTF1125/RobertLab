{
 "cells": [
  {
   "cell_type": "code",
   "execution_count": null,
   "metadata": {},
   "outputs": [],
   "source": [
    "from src import db\n",
    "import yfinance as yf\n",
    "\n",
    "db.client.conn.create_all()\n",
    "\n",
    "with db.SessionContext() as session:\n",
    "    \n",
    "    for meta in db.models.Meta.query(session=session).all():\n",
    "        \n",
    "        source = db.models.Source.query(meta_id = meta.id).one_or_none()\n",
    "        \n",
    "        if source.source == \"NOTSET\": continue\n",
    "        \n",
    "        if source.source == \"yahoo\":\n",
    "            print(meta.ticker)\n",
    "            ticker = yf.Ticker(meta.ticker)\n",
    "            hist = ticker.history(period=\"max\", auto_adjust=False)\n",
    "            hist.columns = hist.columns.str.replace(\" \", \"_\")\n",
    "            hist.columns = hist.columns.str.lower()\n",
    "            hist.index.name = \"asofdate\"\n",
    "            hist['open'] = hist['open'].round(2)\n",
    "            hist['high'] = hist['high'].round(2)\n",
    "            hist['low'] = hist['low'].round(2)\n",
    "            hist['close'] = hist['close'].round(2)\n",
    "            hist['tot_return'] = hist['close'].add(hist['dividends']).pct_change().fillna(0).round(5)\n",
    "            hist['adj_return'] = hist['adj_close'].pct_change().fillna(0).round(5)\n",
    "            hist = hist.reset_index()\n",
    "            hist[\"meta_id\"] = meta.id\n",
    "            db.models.EquityDailyBar.insert(hist[[\"meta_id\", \"asofdate\", \"open\", \"high\", \"low\", \"close\"]])\n"
   ]
  },
  {
   "cell_type": "code",
   "execution_count": null,
   "metadata": {},
   "outputs": [],
   "source": [
    "import inspect\n",
    "import pandas as pd\n",
    "from src import db\n",
    "from src.config import DATABASE_EXC\n",
    "\n",
    "print(DATABASE_EXC)\n",
    "# db.client.conn.create_all()\n",
    "\n",
    "with db.SessionContext() as session:\n",
    "    for name, obj in inspect.getmembers(db.models):\n",
    "        \n",
    "        if inspect.isclass(obj):\n",
    "            print(obj)\n",
    "            tablename = obj.__tablename__\n",
    "            try:\n",
    "                records = pd.read_excel(DATABASE_EXC, sheet_name=tablename)\n",
    "            except:\n",
    "                continue\n",
    "            obj.update(records=records, session=session)\n",
    "            print(f\"update {name} complete\")\n",
    "\n",
    "        \n",
    "        "
   ]
  },
  {
   "cell_type": "code",
   "execution_count": null,
   "metadata": {},
   "outputs": [],
   "source": [
    "\n",
    "from src.core import metrics\n",
    "\n",
    "import yfinance as yf\n",
    "\n",
    "prices = yf.download(\"SPY, AGG\")[\"Adj Close\"]\n",
    "\n",
    "start = metrics.to_starts(prices)\n",
    "end = metrics.to_ends(prices)\n",
    "end - start"
   ]
  },
  {
   "cell_type": "code",
   "execution_count": null,
   "metadata": {},
   "outputs": [],
   "source": [
    "import glob\n",
    "from datetime import date, timedelta\n",
    "import numpy as np\n",
    "import pandas as pd\n",
    "\n",
    "path = \"price/*.xls\"\n",
    "files = glob.glob(pathname=path)\n",
    "\n",
    "yesterday = date.today() - timedelta(days=1)\n",
    "\n",
    "for file in files:\n",
    "    data = pd.read_excel(file)[[\"종목\", \"현재가\"]]\n",
    "    data.columns = [\"ticker\", \"value\"]\n",
    "    if pd.api.types.is_object_dtype(data[\"value\"].dtype):\n",
    "        data[\"value\"] = data[\"value\"].str.replace(\",\", \"\").astype(float)\n",
    "    data[\"date\"] = yesterday\n",
    "    data[\"field\"] = \"CLOSE\"\n",
    "    print(data)\n"
   ]
  },
  {
   "cell_type": "code",
   "execution_count": null,
   "metadata": {},
   "outputs": [],
   "source": []
  },
  {
   "cell_type": "code",
   "execution_count": 2,
   "metadata": {},
   "outputs": [
    {
     "name": "stdout",
     "output_type": "stream",
     "text": [
      "[*********************100%***********************]  8 of 8 completed\n",
      "simulate |--------------------------------------------------| 0.03% 1000.00"
     ]
    },
    {
     "ename": "NameError",
     "evalue": "name 'to_pri_returns' is not defined",
     "output_type": "error",
     "traceback": [
      "\u001b[1;31m---------------------------------------------------------------------------\u001b[0m",
      "\u001b[1;31mNameError\u001b[0m                                 Traceback (most recent call last)",
      "\u001b[1;32m~\\AppData\\Local\\Temp/ipykernel_28012/4081739026.py\u001b[0m in \u001b[0;36m<module>\u001b[1;34m\u001b[0m\n\u001b[0;32m      5\u001b[0m \u001b[0mprices\u001b[0m \u001b[1;33m=\u001b[0m \u001b[0myf\u001b[0m\u001b[1;33m.\u001b[0m\u001b[0mdownload\u001b[0m\u001b[1;33m(\u001b[0m\u001b[1;34m\"XLU, XLK, XLB, XLP, XLY, XLI, XLV, XLF\"\u001b[0m\u001b[1;33m)\u001b[0m\u001b[1;33m[\u001b[0m\u001b[1;34m\"Adj Close\"\u001b[0m\u001b[1;33m]\u001b[0m\u001b[1;33m\u001b[0m\u001b[1;33m\u001b[0m\u001b[0m\n\u001b[0;32m      6\u001b[0m \u001b[1;33m\u001b[0m\u001b[0m\n\u001b[1;32m----> 7\u001b[1;33m strategy = strategy.Momentum(prices).simulate(\n\u001b[0m\u001b[0;32m      8\u001b[0m     \u001b[0mstart\u001b[0m\u001b[1;33m=\u001b[0m\u001b[1;34m\"2015-1-1\"\u001b[0m\u001b[1;33m,\u001b[0m \u001b[0mmin_volatility\u001b[0m\u001b[1;33m=\u001b[0m\u001b[1;36m0.12\u001b[0m\u001b[1;33m\u001b[0m\u001b[1;33m\u001b[0m\u001b[0m\n\u001b[0;32m      9\u001b[0m )\n",
      "\u001b[1;32mc:\\Users\\vip\\code\\website\\src\\core\\strategy\\base.py\u001b[0m in \u001b[0;36msimulate\u001b[1;34m(self, start, end, **kwargs)\u001b[0m\n\u001b[0;32m    170\u001b[0m                 \u001b[1;32mif\u001b[0m \u001b[0mself\u001b[0m\u001b[1;33m.\u001b[0m\u001b[0mreb_prices\u001b[0m\u001b[1;33m.\u001b[0m\u001b[0mempty\u001b[0m\u001b[1;33m:\u001b[0m\u001b[1;33m\u001b[0m\u001b[1;33m\u001b[0m\u001b[0m\n\u001b[0;32m    171\u001b[0m                     \u001b[1;32mcontinue\u001b[0m\u001b[1;33m\u001b[0m\u001b[1;33m\u001b[0m\u001b[0m\n\u001b[1;32m--> 172\u001b[1;33m                 \u001b[0mself\u001b[0m\u001b[1;33m.\u001b[0m\u001b[0maccount\u001b[0m\u001b[1;33m.\u001b[0m\u001b[0mallocations\u001b[0m \u001b[1;33m=\u001b[0m \u001b[0mself\u001b[0m\u001b[1;33m.\u001b[0m\u001b[0mrebalance\u001b[0m\u001b[1;33m(\u001b[0m\u001b[1;33m**\u001b[0m\u001b[0mkwargs\u001b[0m\u001b[1;33m)\u001b[0m\u001b[1;33m\u001b[0m\u001b[1;33m\u001b[0m\u001b[0m\n\u001b[0m\u001b[0;32m    173\u001b[0m                 \u001b[1;32mif\u001b[0m \u001b[0mself\u001b[0m\u001b[1;33m.\u001b[0m\u001b[0maccount\u001b[0m\u001b[1;33m.\u001b[0m\u001b[0mallocations\u001b[0m \u001b[1;32mis\u001b[0m \u001b[1;32mnot\u001b[0m \u001b[1;32mNone\u001b[0m\u001b[1;33m:\u001b[0m\u001b[1;33m\u001b[0m\u001b[1;33m\u001b[0m\u001b[0m\n\u001b[0;32m    174\u001b[0m                     self.account.allocations = self.clean_weights(\n",
      "\u001b[1;32mc:\\Users\\vip\\code\\website\\src\\core\\strategy\\base.py\u001b[0m in \u001b[0;36mrebalance\u001b[1;34m(self, **kwargs)\u001b[0m\n\u001b[0;32m    298\u001b[0m \u001b[1;33m\u001b[0m\u001b[0m\n\u001b[0;32m    299\u001b[0m         \u001b[0mprices\u001b[0m \u001b[1;33m=\u001b[0m \u001b[0mprices\u001b[0m\u001b[1;33m[\u001b[0m\u001b[0mmomentum_1y\u001b[0m\u001b[1;33m.\u001b[0m\u001b[0mindex\u001b[0m\u001b[1;33m]\u001b[0m\u001b[1;33m\u001b[0m\u001b[1;33m\u001b[0m\u001b[0m\n\u001b[1;32m--> 300\u001b[1;33m         \u001b[0mcovariance_matrix\u001b[0m \u001b[1;33m=\u001b[0m \u001b[0mmetrics\u001b[0m\u001b[1;33m.\u001b[0m\u001b[0mto_covariance_matrix\u001b[0m\u001b[1;33m(\u001b[0m\u001b[0mprices\u001b[0m\u001b[1;33m=\u001b[0m\u001b[0mprices\u001b[0m\u001b[1;33m,\u001b[0m \u001b[0mhalflife\u001b[0m\u001b[1;33m=\u001b[0m\u001b[1;36m21\u001b[0m\u001b[1;33m)\u001b[0m\u001b[1;33m\u001b[0m\u001b[1;33m\u001b[0m\u001b[0m\n\u001b[0m\u001b[0;32m    301\u001b[0m         \u001b[0mopt\u001b[0m \u001b[1;33m=\u001b[0m \u001b[0mOptimizer\u001b[0m\u001b[1;33m(\u001b[0m\u001b[0mcovariance_matrix\u001b[0m\u001b[1;33m=\u001b[0m\u001b[0mcovariance_matrix\u001b[0m\u001b[1;33m,\u001b[0m \u001b[1;33m**\u001b[0m\u001b[0mkwargs\u001b[0m\u001b[1;33m)\u001b[0m\u001b[1;33m\u001b[0m\u001b[1;33m\u001b[0m\u001b[0m\n\u001b[0;32m    302\u001b[0m         \u001b[1;32mreturn\u001b[0m \u001b[0mopt\u001b[0m\u001b[1;33m.\u001b[0m\u001b[0mhierarchical_equal_risk_contribution\u001b[0m\u001b[1;33m(\u001b[0m\u001b[1;33m)\u001b[0m\u001b[1;33m\u001b[0m\u001b[1;33m\u001b[0m\u001b[0m\n",
      "\u001b[1;32mc:\\Users\\vip\\code\\website\\src\\core\\analytics\\metrics.py\u001b[0m in \u001b[0;36mto_covariance_matrix\u001b[1;34m(prices, ann_factors, com, span, halflife)\u001b[0m\n\u001b[0;32m    240\u001b[0m ) -> pd.DataFrame:\n\u001b[0;32m    241\u001b[0m \u001b[1;33m\u001b[0m\u001b[0m\n\u001b[1;32m--> 242\u001b[1;33m     \u001b[0mpri_returns\u001b[0m \u001b[1;33m=\u001b[0m \u001b[0mto_pri_return\u001b[0m\u001b[1;33m(\u001b[0m\u001b[0mprices\u001b[0m\u001b[1;33m=\u001b[0m\u001b[0mprices\u001b[0m\u001b[1;33m)\u001b[0m\u001b[1;33m\u001b[0m\u001b[1;33m\u001b[0m\u001b[0m\n\u001b[0m\u001b[0;32m    243\u001b[0m     \u001b[1;32mif\u001b[0m \u001b[0mann_factors\u001b[0m \u001b[1;32mis\u001b[0m \u001b[1;32mNone\u001b[0m\u001b[1;33m:\u001b[0m\u001b[1;33m\u001b[0m\u001b[1;33m\u001b[0m\u001b[0m\n\u001b[0;32m    244\u001b[0m         \u001b[0mann_factors\u001b[0m \u001b[1;33m=\u001b[0m \u001b[0mto_ann_factor\u001b[0m\u001b[1;33m(\u001b[0m\u001b[0mprices\u001b[0m\u001b[1;33m=\u001b[0m\u001b[0mprices\u001b[0m\u001b[1;33m)\u001b[0m\u001b[1;33m\u001b[0m\u001b[1;33m\u001b[0m\u001b[0m\n",
      "\u001b[1;31mNameError\u001b[0m: name 'to_pri_returns' is not defined"
     ]
    }
   ],
   "source": [
    "from src.core import strategy\n",
    "from src.core import metrics\n",
    "import yfinance as yf\n",
    "\n",
    "prices = yf.download(\"XLU, XLK, XLB, XLP, XLY, XLI, XLV, XLF\")[\"Adj Close\"]\n",
    "\n",
    "strategy = strategy.Momentum(prices).simulate(\n",
    "    start=\"2015-1-1\", min_volatility=0.12\n",
    ")\n",
    "\n",
    "strategy.value.plot()\n",
    "print(strategy.analytics())\n"
   ]
  },
  {
   "cell_type": "code",
   "execution_count": 3,
   "metadata": {},
   "outputs": [
    {
     "name": "stdout",
     "output_type": "stream",
     "text": [
      "[*********************100%***********************]  2 of 2 completed\n"
     ]
    },
    {
     "data": {
      "text/plain": [
       "AGG    0.586259\n",
       "SPY    0.509876\n",
       "dtype: float64"
      ]
     },
     "execution_count": 3,
     "metadata": {},
     "output_type": "execute_result"
    }
   ],
   "source": [
    "from src.core import metrics\n",
    "\n",
    "import yfinance as yf\n",
    "\n",
    "price = yf.download(\"SPY, AGG\")[\"Adj Close\"]\n",
    "\n",
    "metrics.to_sharpe_ratio(price=price)"
   ]
  }
 ],
 "metadata": {
  "kernelspec": {
   "display_name": "Python 3",
   "language": "python",
   "name": "python3"
  },
  "language_info": {
   "codemirror_mode": {
    "name": "ipython",
    "version": 3
   },
   "file_extension": ".py",
   "mimetype": "text/x-python",
   "name": "python",
   "nbconvert_exporter": "python",
   "pygments_lexer": "ipython3",
   "version": "3.9.6"
  },
  "orig_nbformat": 4
 },
 "nbformat": 4,
 "nbformat_minor": 2
}
